{
 "cells": [
  {
   "cell_type": "code",
   "execution_count": 1,
   "source": [
    "import pandas as pd"
   ],
   "outputs": [],
   "metadata": {}
  },
  {
   "cell_type": "markdown",
   "source": [
    "-Format EIA Data-"
   ],
   "metadata": {}
  },
  {
   "cell_type": "code",
   "execution_count": 9,
   "source": [
    "# The EIA data table is formatted with notes at the beginning and end, drop them from dataframe\r\n",
    "# see skiprows and skipfooter\r\n",
    "eiaDropHead = [0, 1]\r\n",
    "\r\n",
    "\r\n",
    "# EIA list of tabs to merge\r\n",
    "eiaTabs = ['Operating', 'Planned', 'Retired', 'Canceled or Postponed', 'Operating_PR', 'Planned_PR', 'Retired_PR']\r\n",
    "\r\n",
    "eiaList = []\r\n",
    "eiaLenQC = 0\r\n",
    "for i in eiaTabs:\r\n",
    "    print(\"Processing tab: \", i)\r\n",
    "\r\n",
    "    eia_ = pd.read_excel(r'C:\\Users\\Sarah\\Documents\\GEM\\research\\North America\\US\\EIA\\july_generator2021.xlsx', sheet_name=i, skiprows=eiaDropHead, skipfooter=2)\r\n",
    "    eiaLenQC += len(eia_.index)\r\n",
    "\r\n",
    "    # Keep only gas-fired plants\r\n",
    "    eia_ = eia_.loc[eia_['Energy Source Code'] == 'NG']\r\n",
    "   \r\n",
    "    # Add status column for the tab\r\n",
    "    eia_['Status_Tab'] = i.lower()\r\n",
    "    eiaList += [eia_]\r\n",
    "\r\n",
    "# Combine tabs\r\n",
    "eia = pd.concat(eiaList)\r\n",
    "\r\n",
    "# Total rows\r\n",
    "print('\\n')\r\n",
    "print(\"Total row count of all tabs: \", eiaLenQC, '\\n')\r\n",
    "print(\"Total row count, only NG-fired units: \", len(eia.index), '\\n')"
   ],
   "outputs": [
    {
     "output_type": "stream",
     "name": "stdout",
     "text": [
      "Processing tab:  Operating\n",
      "Processing tab:  Planned\n",
      "Processing tab:  Retired\n",
      "Processing tab:  Canceled or Postponed\n",
      "Processing tab:  Operating_PR\n",
      "Processing tab:  Planned_PR\n",
      "Processing tab:  Retired_PR\n",
      "\n",
      " Total row count of all tabs:  32088 \n",
      "\n",
      "Total row count, only NG-fired units:  8732 \n",
      "\n"
     ]
    }
   ],
   "metadata": {}
  },
  {
   "cell_type": "code",
   "execution_count": null,
   "source": [
    "# Merge units into proper sets\r\n",
    "# 'ST', 'GT' are individual. 'CA' (steam) and 'CT' (gas turbine) need to be combined to 'CC'\r\n",
    "# TODO: 'CS' is CS a unit or should be combined? --> combined cycle single shaft\r\n",
    "\r\n",
    "# Match IDs to GGPT and compare field values (status, capacity, year)\r\n",
    "\r\n",
    "# Locate any new unit IDs\r\n",
    "\r\n",
    "# Check capacity for any new units"
   ],
   "outputs": [],
   "metadata": {}
  },
  {
   "cell_type": "code",
   "execution_count": 6,
   "source": [
    "# Check for missing dual-fuel plants in EIA-860\r\n"
   ],
   "outputs": [
    {
     "output_type": "stream",
     "name": "stdout",
     "text": [
      "32088\n"
     ]
    }
   ],
   "metadata": {}
  },
  {
   "cell_type": "code",
   "execution_count": null,
   "source": [
    "# Add in ownership information from separate EIA table"
   ],
   "outputs": [],
   "metadata": {}
  }
 ],
 "metadata": {
  "orig_nbformat": 4,
  "language_info": {
   "name": "python",
   "version": "3.9.1",
   "mimetype": "text/x-python",
   "codemirror_mode": {
    "name": "ipython",
    "version": 3
   },
   "pygments_lexer": "ipython3",
   "nbconvert_exporter": "python",
   "file_extension": ".py"
  },
  "kernelspec": {
   "name": "python3",
   "display_name": "Python 3.9.1 64-bit"
  },
  "interpreter": {
   "hash": "59914d4cdf2882751604edf3f1dd6385ce640077546f95a91cf3fdd2be269e3e"
  }
 },
 "nbformat": 4,
 "nbformat_minor": 2
}