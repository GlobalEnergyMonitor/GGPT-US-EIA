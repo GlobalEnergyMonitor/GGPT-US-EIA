{
 "cells": [
  {
   "cell_type": "code",
   "execution_count": null,
   "metadata": {},
   "outputs": [],
   "source": [
    "import pandas as pd\n",
    "import decimal\n",
    "import numpy as np\n",
    "from datetime import datetime"
   ]
  },
  {
   "cell_type": "markdown",
   "metadata": {},
   "source": [
    "# GGPT Data"
   ]
  },
  {
   "cell_type": "code",
   "execution_count": null,
   "metadata": {},
   "outputs": [],
   "source": [
    "# Downloaded and compiled copy to use\n",
    "# Note: if you edit the GGPT you'll have to re-download and compile to run this code\n",
    "ggptCopy = r'C:\\Users\\Sarah\\Documents\\GEM\\code\\GGPT-Compile\\2021_10_15_compiled\\Global Gas Plant Tracker (GGPT) completed 2021-10-15.xlsx'"
   ]
  },
  {
   "cell_type": "markdown",
   "metadata": {},
   "source": [
    "# EIA Data"
   ]
  },
  {
   "cell_type": "markdown",
   "metadata": {},
   "source": [
    "## Initalize"
   ]
  },
  {
   "cell_type": "markdown",
   "metadata": {},
   "source": [
    "### Variables"
   ]
  },
  {
   "cell_type": "code",
   "execution_count": null,
   "metadata": {},
   "outputs": [],
   "source": [
    "stamp = datetime.now().strftime(\"%m %d %Y %H-%M-%S\")\n",
    "\n",
    "# Files downloaded\n",
    "file860M = r'C:\\Users\\Sarah\\Documents\\GEM\\research\\North America\\US\\EIA\\july_generator2021.xlsx'\n",
    "# 860 spreadsheets, single tab\n",
    "plant860 = r'C:\\Users\\Sarah\\Documents\\GEM\\research\\North America\\US\\EIA\\eia8602020\\2___Plant_Y2020.xlsx'\n",
    "owner860 = r'C:\\Users\\Sarah\\Documents\\GEM\\research\\North America\\US\\EIA\\eia8602020\\4___Owner_Y2020.xlsx'\n",
    "generator860 = r\"C:\\Users\\Sarah\\Documents\\GEM\\research\\North America\\US\\EIA\\eia8602020\\3_1_Generator_Y2020.xlsx\"\n",
    "\n",
    "# see skiprows and skipfooter\n",
    "eiaDropHead = [0, 1]\n",
    "\n",
    "# Allowed technolgoy codes\n",
    "allowedTechCodes = ['ST','GT','CC']\n",
    "\n",
    "# Combined cycle is not operable but keep all units (as of July 2021 version)\n",
    "# Make strings because convert Plant ID from number later in the code when building global ID\n",
    "CT = ['10789', '52132', '55372', '55470', '10745', '57953', '54096', '50118']\n",
    "\n",
    "# Reset these statuses to construction\n",
    "setFixPlant = ['613', '10554']\n",
    "setFixUnit = ['DBCC','CC_set']\n",
    "\n",
    "# Columns we don't need for GGPT (will drop later, putting here for visibility)\n",
    "eiaDropCols = ['Sector', 'Net Summer Capacity (MW)', 'Net Winter Capacity (MW)', 'Technology', 'Operating Month', 'Planned Retirement Month', 'Planned Operation Month',\n",
    "'Google Map', 'Bing Map', 'Balancing Authority Code', 'Planned Derate Year', 'Planned Derate Month', 'Planned Derate of Summer Capacity (MW)', 'Planned Uprate Year', 'Planned Uprate Month', \n",
    "'Planned Uprate of Summer Capacity (MW)']\n",
    "\n",
    "# EIA list of tabs to merge\n",
    "# eiaTabs = ['Operating', 'Planned', 'Retired', 'Canceled or Postponed', 'Operating_PR', 'Planned_PR', 'Retired_PR']\n",
    "eiaTabs = ['Operating', 'Planned', 'Operating_PR', 'Planned_PR']\n",
    "\n",
    "eiaColumns = []\n",
    "\n",
    "eiaList = [] # for storing each tab to merge later, better performance and this is a large table)\n",
    "eiaLenQC = 0\n",
    "\n",
    "#\n",
    "runningRowCount= 0\n",
    "\n",
    "#\n",
    "generatorTabs = ['Operable', 'Proposed', 'Retired and Canceled']"
   ]
  },
  {
   "cell_type": "markdown",
   "metadata": {},
   "source": [
    "### Read 860M data"
   ]
  },
  {
   "cell_type": "code",
   "execution_count": null,
   "metadata": {},
   "outputs": [],
   "source": [
    "# Loop over each sheet to read in and merge\n",
    "for i in eiaTabs:\n",
    "    print(\"Processing tab: \", i)\n",
    "\n",
    "    # Generator ID reads a string, preserves leading zeros in IDs, but Mason's code stripped it\n",
    "    # Corrected to keep zeroes because there's plants with units '001' and '0001' \n",
    "    eia_ = pd.read_excel(file860M, sheet_name=i, skiprows=eiaDropHead, skipfooter=2, keep_default_na=False)\n",
    "    eiaColumns += [x for x in eia_.columns if x not in eiaColumns]\n",
    "\n",
    "    eiaLenQC += len(eia_.index) # Can compare this number later to the sum of all rows in the EIA Excel sheet\n",
    "\n",
    "    # Keep only gas-fired plants + associaited steam turbines\n",
    "    # XXX Need to wait until join in ALL fuels from 860 Generator data, this table has only first fuel\n",
    "    # eia_ = eia_.loc[eia_['Energy Source Code'].isin(['NG','OTH'])]\n",
    "   \n",
    "    # Add status column based on the tab's name, EIA Status column inconsistent\n",
    "    eia_['Status_Tab'] = i.lower()\n",
    "            \n",
    "    # Store this tab's data to merge\n",
    "    eiaList += [eia_]"
   ]
  },
  {
   "cell_type": "markdown",
   "metadata": {},
   "source": [
    "### Backfill columns that are missing in each tab\n",
    "\n",
    "Columns not in other tabs will backfill as NaN, and worse, for integer columns\n",
    "will backfill as a NaN float because NaN can't be an integer (e.g. Retired Year column).\n",
    "Can't blanket apply .fillna() because some columns are string and other float, throws error.\n",
    "And if leave float NaN, when try to create Sets later on for merging rows, they don't reduce\n",
    "(float NaN have some kind of differentiating ID that disallows counting as duplicates)"
   ]
  },
  {
   "cell_type": "code",
   "execution_count": null,
   "metadata": {},
   "outputs": [],
   "source": [
    "for i in eiaList:\n",
    "    # Columns\n",
    "    for col in eiaColumns:\n",
    "        if col not in i.columns:\n",
    "            i[col] = 'not found'\n",
    "\n",
    "colLen = set()\n",
    "for i in eiaList:\n",
    "    # print(len(list(i.columns)))\n",
    "    colLen.add(len(list(i.columns)))\n",
    "if len(colLen) != 1:\n",
    "    print('Error in columns.')\n",
    "else:\n",
    "    print('Columns complete.')"
   ]
  },
  {
   "cell_type": "markdown",
   "metadata": {},
   "source": [
    "### Combine tabs"
   ]
  },
  {
   "cell_type": "code",
   "execution_count": null,
   "metadata": {},
   "outputs": [],
   "source": [
    "# Combine tabs\n",
    "eia = pd.concat(eiaList)\n",
    "\n",
    "# Drop columns\n",
    "eia.drop(columns=eiaDropCols, inplace=True)\n",
    "\n",
    "# Total rows\n",
    "print('\\n')\n",
    "print(\"Total row count of all tabs: \", eiaLenQC, '\\n')"
   ]
  },
  {
   "cell_type": "markdown",
   "metadata": {},
   "source": [
    "### Store 860M retirement data separately"
   ]
  },
  {
   "cell_type": "code",
   "execution_count": null,
   "metadata": {},
   "outputs": [],
   "source": [
    "# Mason didn't put retired or canceled units in the original push so adding them now creates a lot of errors in table comparison\n",
    "retired860M = pd.read_excel(file860M, sheet_name='Retired', skiprows=eiaDropHead, skipfooter=2, keep_default_na=False)\n",
    "shelved860M = pd.read_excel(file860M, sheet_name='Canceled or Postponed', skiprows=eiaDropHead, skipfooter=2, keep_default_na=False)\n",
    "\n",
    "# TODO: see what's in GGPT and add in now so formats correctly\n",
    "# Otherwise CC units won't match also"
   ]
  },
  {
   "cell_type": "markdown",
   "metadata": {},
   "source": [
    "### Read 860 Data"
   ]
  },
  {
   "cell_type": "code",
   "execution_count": null,
   "metadata": {},
   "outputs": [],
   "source": [
    "# 860 spreadsheets, single tab\n",
    "plantData = pd.read_excel(plant860, skiprows=[0], keep_default_na=False)\n",
    "ownerData = pd.read_excel(owner860, skiprows=[0], keep_default_na=False)\n",
    "\n",
    "# Loop over each sheet to read in and merge\n",
    "g_=[]\n",
    "for i in generatorTabs:\n",
    "    print(\"Processing tab: \", i)\n",
    "    if i in ['Operable', 'Proposed']:\n",
    "        gData = pd.read_excel(generator860, sheet_name=i, skiprows=[0], skipfooter=1, keep_default_na=False)\n",
    "    else:\n",
    "        gData = pd.read_excel(generator860, sheet_name=i, skiprows=[0], keep_default_na=False)\n",
    "    \n",
    "    gCol = [x for x in list(gData.columns) if x not in ['Generator ID', 'Plant Code', 'Energy Source 1', 'Energy Source 2', 'Energy Source 3', 'Energy Source 4', 'Energy Source 5', 'Energy Source 6', \n",
    "    'Associated with Combined Heat and Power System']]\n",
    "    gData.drop(columns=gCol, inplace=True)\n",
    "\n",
    "    # Keep ~only gas-fired plants\n",
    "    # gIndex = gData.loc[~gData['Plant Code'].isin(list(eia['Plant ID']))].index\n",
    "    # gData.drop(index=gIndex, inplace=True)\n",
    "            \n",
    "    # Store this tab's data to merge\n",
    "    g_ += [gData]\n",
    "\n",
    "# Combine tabs\n",
    "generatorData = pd.concat(g_)"
   ]
  },
  {
   "cell_type": "markdown",
   "metadata": {},
   "source": [
    "## Add 860 data"
   ]
  },
  {
   "cell_type": "markdown",
   "metadata": {},
   "source": [
    "### 860 Fuels + CHP\n",
    "### (fuel has to be before Generator IDs become lists or else can't merge easily)"
   ]
  },
  {
   "cell_type": "code",
   "execution_count": null,
   "metadata": {},
   "outputs": [],
   "source": [
    "# EIA fuel columns\n",
    "fuelCols = ['Energy Source 1', 'Energy Source 2', 'Energy Source 3', 'Energy Source 4', 'Energy Source 5', 'Energy Source 6']\n",
    "\n",
    "# Dictionary of some EIA fuel codes to GGPT domain\n",
    "fuelMix = {'OBS':'B',\n",
    "'WDS':'B',\n",
    "'BFG':'BFG',\n",
    "'OBL':'BL',\n",
    "'WDL':'BL',\n",
    "'ANT':'C',\n",
    "'BIT':'C',\n",
    "'LIG':'C',\n",
    "'SGC':'C',\n",
    "'SUB':'C',\n",
    "'WC':'C',\n",
    "'RC':'C',\n",
    "'DFO':'FO',\n",
    "'RFO':'FO',\n",
    "'JF':'J',\n",
    "'SUN':'S',\n",
    "'SGP':'SG'}\n",
    "\n",
    "# Redo fuel codes\n",
    "for i in fuelCols:\n",
    "   generatorData[i] = generatorData[i].apply(lambda x: fuelMix[x] if (x in fuelMix.keys()) else x)"
   ]
  },
  {
   "cell_type": "code",
   "execution_count": null,
   "metadata": {},
   "outputs": [],
   "source": [
    "# Merge fuels into one column\n",
    "# First, in case of duplicates, make a set\n",
    "generatorData['fuelMerge'] = generatorData[fuelCols].values.tolist()\n",
    "generatorData['fuelMerge'] = generatorData['fuelMerge'].apply(lambda x: list(set([x for x in x if  x != ''])))\n",
    "generatorData['fuelMerge'] = generatorData['fuelMerge'].apply(lambda x: '/'.join(x))\n",
    "\n",
    "# multi-column matching issue, so made single index; can't '+' if there's hidden strings or ints in the column\n",
    "generatorData = generatorData.astype({'Plant Code':'str', 'Generator ID': 'str'})\n",
    "generatorData['gid'] = generatorData['Plant Code'] + \"_\" + generatorData['Generator ID']\n",
    "\n",
    "eia = eia.astype({'Plant ID':'str', 'Generator ID': 'str'})\n",
    "# eia['gMix'] = list(eia['Plant ID'] + \"_\" + eia['Generator ID'])\n",
    "eia['gid'] = eia['Plant ID'] + '_' + eia['Generator ID'] \n",
    "\n",
    "rmGenCols = fuelCols + ['Plant Code', 'Generator ID']\n",
    "g2 = generatorData.drop(columns=rmGenCols)\n",
    "g2.rename(columns={\"Associated with Combined Heat and Power System\": 'CHP'}, inplace=True)\n",
    "\n",
    "# merge\n",
    "eia1 = eia.merge(g2, how='left', on='gid')"
   ]
  },
  {
   "cell_type": "code",
   "execution_count": null,
   "metadata": {},
   "outputs": [],
   "source": [
    "# Fix unmatched CHP values, if any (in July 2021 it was 154)\n",
    "print(\"This many CHP errors: \", len(eia1.loc[eia1['CHP'].isna()].index))\n",
    "eia1.loc[eia1['CHP'].isna(), \"CHP\"] = 'not found'\n",
    "\n",
    "# Compare Energy Code column to fuelMerge and replace where needed\n",
    "# For units with just \"NG\", but that are actually multi-fuel, will add dother fuels in \n",
    "print(\"This many Fuel replacements: \", len(eia1.loc[(eia1['Energy Source Code'] != eia1['fuelMerge']) & (~eia1['fuelMerge'].isna()), 'Energy Source Code']))\n",
    "eia1.loc[(eia1['Energy Source Code'] != eia1['fuelMerge']) & (~eia1['fuelMerge'].isna()), 'Energy Source Code'] = eia1.loc[(eia1['Energy Source Code'] != eia1['fuelMerge']) & (~eia1['fuelMerge'].isna()), 'fuelMerge']\n",
    "\n",
    "# Drop extra columns after merge\n",
    "eia1 = eia1.drop(columns=['fuelMerge'])\n",
    "\n",
    "# Now drop rows that don't contain NG or that one steam turbine that's 'other' fuel\n",
    "# Also IF ever do this on fuelMegre column note to keep anything anything NaN, that happened for plants in Puerto Rico missing from Generators\n",
    "dropFuel = eia1.loc[~eia1['Energy Source Code'].apply(lambda x: True if ('NG' in str(x) or str(x) == \"OTH\") else False)].index\n",
    "eia1 = eia1.drop(index=dropFuel)\n"
   ]
  },
  {
   "cell_type": "markdown",
   "metadata": {},
   "source": [
    "### Join in 860 data, ownership"
   ]
  },
  {
   "cell_type": "code",
   "execution_count": null,
   "metadata": {},
   "outputs": [],
   "source": [
    "# Format\n",
    "# Find plants missing values (returns as type str which causes issues adding % sign). \n",
    "\n",
    "# Find empty percentage rows\n",
    "ownerNotFound = ownerData.loc[ownerData['Percent Owned'].apply(lambda x: True if (x == ' ') else False)].index\n",
    "# If percent owned is empty put as 0 for now so can do math\n",
    "ownerData.loc[ownerData.index.isin(ownerNotFound), 'Percent Owned'] = 0\n",
    "# Coerce into right formatting\n",
    "ownerData['Percent Owned'] = ownerData['Percent Owned'].astype(float)\n",
    "ownerData['Percent Owned'] = ownerData['Percent Owned'] * 100\n",
    "ownerData['Percent Owned'] = ownerData['Percent Owned'].astype(int) # remove decimal points\n",
    "ownerData['Percent Owned'] = ownerData['Percent Owned'].astype(str)\n",
    "# Now that its string, turn 0 from the blanks into 'not found'\n",
    "ownerData.loc[ownerData.index.isin(ownerNotFound), 'Percent Owned'] = '[% not found]'\n",
    "# TODO: recalcuating % multiple owners per unit (Foster Wheeler Martinez Inc [99%]; BRE Partner - BRE [1%]; Foster Wheeler Power Sys Inc [99%]; BRE Partner - BRE [1%])\n",
    "# TODO if one, remove 100%\n",
    "# Make into GGPT format\n",
    "ownerData['Owner Name'] = ownerData['Owner Name'].astype(str)\n",
    "ownerData['oID'] = ownerData['Owner Name'] + ' [' + ownerData['Percent Owned'] + '%]'\n",
    "\n",
    "# Group by Generator ID\n",
    "# since one generator can have multiple owners this keeps there from being multiple GID matchs on eia1 merge\n",
    "ownerData = ownerData.groupby(['Plant Code', 'Generator ID'])['oID'].apply('; '.join).reset_index()\n",
    "\n",
    "# Global ID - can't group on Generator ID from owner table because retired units will mess up matching codes\n",
    "ownerData['Plant Code'] = ownerData['Plant Code'].astype(str)\n",
    "ownerData['Generator ID'] = ownerData['Generator ID'].astype(str)\n",
    "ownerData['gid'] = ownerData['Plant Code'] + '_' + ownerData['Generator ID'] \n",
    "\n",
    "print(len(eia1.index))\n",
    "print(len(eia1[['gid']].drop_duplicates().index))\n",
    "\n",
    "# [can't Merge on Utility ID <--> Entity ID, eia data only puts first entity code, not a list to match]\n",
    "eiaMultiOwner = eia1.merge(right=ownerData[['gid', 'oID']], how='left', on='gid')\n",
    "print(eiaMultiOwner.columns.values)"
   ]
  },
  {
   "cell_type": "code",
   "execution_count": null,
   "metadata": {},
   "outputs": [],
   "source": [
    "# If not matched in Ownership table, the entity from EIA 860M is the owner\n",
    "# TODO: plants that only partially match in Owners table, if 100% then need to do math for Entity portion ownership and re-write\n",
    "# TODO: might be worth not forming full text string until after that\n",
    "sameOwner = eiaMultiOwner.loc[eiaMultiOwner['oID'].isna()]\n",
    "print('sameowner', len(sameOwner.index))\n",
    "sameOwner = sameOwner.drop(columns=['oID'])\n",
    "sameOwner['oID']  = sameOwner['Entity Name'] # Note: don't include 100%, we don't do that for sponsors and won't match\n",
    "print('eia1',len(eia1.index))\n",
    "dSO = eiaMultiOwner.loc[eiaMultiOwner['gid'].isin(sameOwner['gid'].tolist())].index.tolist()\n",
    "print('dso',len(dSO))\n",
    "print('owner1',len(eiaMultiOwner.index))\n",
    "newEIA = eiaMultiOwner.drop(index=dSO)\n",
    "print(len(newEIA.index))\n",
    "newEIA = newEIA.append(other=sameOwner, ignore_index=True)\n",
    "print(len(newEIA.index))\n",
    "newEIA = newEIA.drop(columns=['gid', 'Entity ID', 'Entity Name'])\n",
    "newEIA = newEIA.rename(columns={'oID':'Ownership'})"
   ]
  },
  {
   "cell_type": "markdown",
   "metadata": {},
   "source": [
    "## Merge individual combined cycle units into single sets ##"
   ]
  },
  {
   "cell_type": "markdown",
   "metadata": {},
   "source": [
    "### Groupby \"Unit Code\", the identifier for common components of a combined cycle set"
   ]
  },
  {
   "cell_type": "code",
   "execution_count": null,
   "metadata": {},
   "outputs": [],
   "source": [
    "# Merge units into proper sets\n",
    "# 'ST', 'GT', and 'CS' are individual. 'CA' (steam) and 'CT' (gas turbine) need to be combined to 'CC'\n",
    "ccSets = newEIA.loc[newEIA['Prime Mover Code'].isin(['CA', 'CT'])]\n",
    "print('CC to combine: ', len(ccSets.index))\n",
    "\n",
    "#Deal with these units separately\n",
    "print('CC units with special status issue to resolve later: ', CT)\n",
    "ccSets = ccSets.drop(index=ccSets.loc[ccSets['Plant ID'].isin(CT)].index)\n",
    "ccToRemove = ccSets.index\n",
    "\n",
    "runningRowCount = 0 - len(ccToRemove)\n",
    "print('Running row count: ', runningRowCount)\n",
    "\n",
    "# Group by plant ID and Unit Code fields\n",
    "# Sum capacities, group Generator IDs, keep sets of values that could possibly vary between units\n",
    "ccGroup = ccSets.groupby(['Plant ID', 'Unit Code', 'Status_Tab'], as_index=False).agg({'Nameplate Capacity (MW)': 'sum', 'Generator ID': lambda x: list(x), 'Status': lambda x: set(x),\n",
    "'Operating Year': lambda x: set(x), 'Planned Retirement Year': lambda x: set(x), 'Planned Operation Year': lambda x: set(x), 'CHP': lambda x: set(x), 'Ownership': lambda x: set(x)})\n",
    "\n",
    "# Set the correct tech code\n",
    "ccGroup['Prime Mover Code'] = 'CC'\n",
    "\n",
    "# IF not unit code, mason called it 'cc_set'\n",
    "ccGroup.loc[ccGroup['Unit Code'] == '', 'Unit Code'] = 'CC_set'"
   ]
  },
  {
   "cell_type": "markdown",
   "metadata": {},
   "source": [
    "### Deal with conflicting values from merged rows, such as start year"
   ]
  },
  {
   "cell_type": "code",
   "execution_count": null,
   "metadata": {},
   "outputs": [],
   "source": [
    "# Check Sets for multiple values and turn into a range if necessary (e.g. different start years for units of a CC generator)\n",
    "checkSets = ['Status', 'Operating Year', 'Planned Retirement Year', 'Planned Operation Year', 'CHP', 'Ownership']\n",
    "for i in checkSets:\n",
    "    # Wherever there are multiple values print them to screen\n",
    "    print('\\n', i)\n",
    "    print(\"Cells with multiple values: \", len(ccGroup.loc[ccGroup[i].apply(len) != 1].index))\n",
    "    # Possible issues combing NaN and year\n",
    "    if len(ccGroup.loc[(ccGroup[i].apply(lambda x: 'not found' in list(x))) & (ccGroup[i].apply(len) > 1)].index) > 0:\n",
    "        print('ERROR Values and not founds: ', len(ccGroup.loc[(ccGroup[i].apply(lambda x: 'not found' in list(x))) & (ccGroup[i].apply(len) > 1)].index))\n",
    "    # For mutliple years per new CC value, create year range\n",
    "    check = []\n",
    "    check = ccGroup.loc[ccGroup[i].apply(len) != 1]\n",
    "    ownerCheck = ccGroup.loc[ccGroup['Ownership'].apply(lambda x: True if (type(x) == set and len(list(x)) > 1) else False)].index\n",
    "    if len(check.index) > 0 and 'Year' in i:\n",
    "        ccGroup.loc[ccGroup[i].apply(len) != 1, i] = ccGroup.loc[ccGroup[i].apply(len) != 1][i].apply(lambda x: str(int(min(list(x)))) + '-' +  str(int(max(list(x)))) )\n",
    "    elif len(check.index) > 0 and i == 'CHP':\n",
    "        ccGroup.loc[(ccGroup[i].apply(len) != 1) & ccGroup[i] != 'not found', i] = \"Y\"\n",
    "    elif len(ownerCheck) > 1 and i == 'Ownership':\n",
    "         #TODO: make a set, remove duplicates, while adding their percentages\n",
    "        ccGroup.loc[ownerCheck, 'Ownership'] = ccGroup.loc[ownerCheck, 'Ownership'].apply('; '.join)\n",
    "    else:\n",
    "        print(\"Manually fix: \", i)\n",
    "        # print(ccGroup.loc[ccGroup[i].apply(len) != 1])\n",
    "\n",
    "    # Wherever there's just one value, replace the set with the value\n",
    "    if i == 'Ownership':\n",
    "        ccGroup.loc[~ccGroup.index.isin(ownerCheck), i] = ccGroup.loc[~ccGroup.index.isin(ownerCheck)][i].apply(''.join)\n",
    "    else:\n",
    "        ccGroup.loc[ccGroup[i].apply(len) == 1, i] = ccGroup.loc[ccGroup[i].apply(len) == 1][i].apply(lambda x: list(x)[0])"
   ]
  },
  {
   "cell_type": "code",
   "execution_count": null,
   "metadata": {},
   "outputs": [],
   "source": [
    "# Join back relevant plant-level columns\n",
    "eiaBackfill = newEIA.drop_duplicates(subset='Plant ID', ignore_index=True)\n",
    "eiaBackfill = eiaBackfill.drop(columns=['Unit Code', 'Nameplate Capacity (MW)', 'Generator ID', 'Status', 'Operating Year', 'Planned Retirement Year', 'Planned Operation Year',\n",
    " 'Prime Mover Code', 'Status_Tab', 'CHP', 'Ownership'])\n",
    "ccGroupJoin = ccGroup.merge(eiaBackfill, on='Plant ID', how='left')"
   ]
  },
  {
   "cell_type": "code",
   "execution_count": null,
   "metadata": {},
   "outputs": [],
   "source": [
    "# Remove units from eia dataset, add back-in the new sets\n",
    "eiaFormatted = newEIA.drop(index=ccToRemove)\n",
    "\n",
    "# Check to make sure columns match first\n",
    "if sorted(list(eiaFormatted.columns)) != sorted(list(ccGroupJoin.columns)):\n",
    "    print(\"Error, missing columns\")\n",
    "    exit()\n",
    "\n",
    "# Append CC rows\n",
    "eiaFormatted = eiaFormatted.append(ccGroupJoin, ignore_index=True)\n",
    "\n",
    "# QC\n",
    "runningRowCount = runningRowCount + len(ccGroupJoin.index)\n",
    "print('Running row count: ', runningRowCount)"
   ]
  },
  {
   "cell_type": "markdown",
   "metadata": {},
   "source": [
    "### Combined cycle fixes"
   ]
  },
  {
   "cell_type": "code",
   "execution_count": null,
   "metadata": {},
   "outputs": [],
   "source": [
    "#TODO: double check when split CC units out, concat unit code w gen code '-'"
   ]
  },
  {
   "cell_type": "code",
   "execution_count": null,
   "metadata": {},
   "outputs": [],
   "source": [
    "# Manual fixes\n",
    "# For single units in standby within CC unit\n",
    "# convert tech to just GT or ST and make mothballed\n",
    "# CT variable is taken from manually reviewing the rows from cc group with multiple statuses\n",
    "\n",
    "# Unit ids\n",
    "CT_U = list(eiaFormatted.loc[(eiaFormatted['Plant ID'].isin(CT)) & eiaFormatted['Prime Mover Code'].isin(['CT','CA'])].index)\n",
    "\n",
    "# Deal with mothballed generators\n",
    "sepCode = ['\\(SB\\)', '\\(OS\\)', '\\(OA\\)']\n",
    "ccSetsSkip = eiaFormatted.loc[(eiaFormatted['Status'].str.contains('|'.join(sepCode))) & (eiaFormatted['Plant ID'].isin(CT)) & eiaFormatted['Prime Mover Code'].isin(['CT','CA'])]\n",
    "CT_2 = [x for x in CT_U if x not in list(ccSetsSkip.index)]\n",
    "\n",
    "for x in list(ccSetsSkip.index):\n",
    "    eiaFormatted.loc[x, 'Status'] = 'mothballed'\n",
    "    if eiaFormatted.loc[x, 'Prime Mover Code'] == 'CT':\n",
    "        eiaFormatted.loc[x, 'Prime Mover Code'] = 'GT'\n",
    "    else:\n",
    "        eiaFormatted.loc[x, 'Prime Mover Code'] = 'ST'"
   ]
  },
  {
   "cell_type": "code",
   "execution_count": null,
   "metadata": {},
   "outputs": [],
   "source": [
    "# Now see if there's still a CC unit with one status to combine\n",
    "# Merge units into proper sets\n",
    "# 'ST', 'GT', and 'CS' are individual. 'CA' (steam) and 'CT' (gas turbine) need to be combined to 'CC'\n",
    "ccSetsM = eiaFormatted.loc[eiaFormatted.index.isin(CT_2)]\n",
    "ccToRemoveM = ccSetsM.index\n",
    "\n",
    "# QC\n",
    "runningRowCount = runningRowCount - len(ccToRemoveM)\n",
    "print('Running row count: ', runningRowCount)\n",
    "\n",
    "# Group by plant ID and Unit Code fields\n",
    "# Sum capacities, group Generator IDs, keep sets of values that could possibly vary between units\n",
    "ccGroupM = ccSetsM.groupby(['Plant ID', 'Unit Code', 'Status_Tab'], as_index=False).agg({'Prime Mover Code': lambda x: set(x), 'Nameplate Capacity (MW)': 'sum', 'Generator ID': lambda x: list(x), 'Status': lambda x: set(x),\n",
    "'Operating Year': lambda x: set(x), 'Planned Retirement Year': lambda x: set(x), 'Planned Operation Year': lambda x: set(x), 'CHP': lambda x: set(x), 'Ownership': lambda x: set(x)})\n",
    "\n",
    "## QC ##\n",
    "# Check for multiple statuses\n",
    "if len(ccGroupM.loc[ccGroupM['Status'].apply(len) != 1].index) > 0:\n",
    "    print(\"Cells with multiple Status values: \", ccGroupM.loc[ccGroupM['Status'].apply(len) != 1])\n",
    "\n",
    "## Sort out what is still CC and what's individual turbines now ##\n",
    "# Check is a CC unit still\n",
    "ccGroupM.loc[ccGroupM['Prime Mover Code'].apply(len) > 1, 'Prime Mover Code'] = 'CC'\n",
    "\n",
    "# If not, remove from the groupby and re-insert as individual units\n",
    "cgmi = ccGroupM.loc[ccGroupM['Prime Mover Code'].apply(len) == 1].index\n",
    "ccGroupM.drop(index=cgmi, inplace=True)\n",
    "\n",
    "# Create single list of generator ids to drop\n",
    "gm = ccGroupM['Generator ID'].apply(lambda x: x if (type(x) == list) else [x])\n",
    "gmDrop = np.concatenate(gm.tolist())\n",
    "# drop\n",
    "ccSetsM2 = ccSetsM.drop(index=ccSetsM.loc[ccSetsM['Generator ID'].isin(gmDrop)].index)\n",
    "# Rename codes\n",
    "ccSetsM2.loc[ccSetsM2['Prime Mover Code'] == 'CT', 'Prime Mover Code'] = 'GT'\n",
    "ccSetsM2.loc[ccSetsM2['Prime Mover Code'] == 'CA', 'Prime Mover Code'] = 'ST'\n",
    "\n",
    "\n"
   ]
  },
  {
   "cell_type": "code",
   "execution_count": null,
   "metadata": {},
   "outputs": [],
   "source": [
    "# Check Sets for multiple values and turn into a range if necessary (e.g. different start years for units of a CC generator)\n",
    "for i in checkSets: # <-- previously defined\n",
    "    print('\\n', i)\n",
    "    # Possible issues combing NaN and year\n",
    "    if len(ccGroupM.loc[(ccGroupM[i].apply(lambda x: 'not found' in list(x))) & (ccGroupM[i].apply(len) > 1)].index) > 0:\n",
    "        print('ERROR Values and not founds: ', len(ccGroupM.loc[(ccGroupM[i].apply(lambda x: 'not found' in list(x))) & (ccGroupM[i].apply(len) > 1)].index))\n",
    "   \n",
    "    # For mutliple years per new CC value, create year range\n",
    "    if 'Year' in i:\n",
    "        ccGroupM.loc[ccGroupM[i].apply(len) != 1, i] = ccGroupM.loc[ccGroupM[i].apply(len) != 1][i].apply(lambda x: str(int(min(list(x)))) + '-' +  str(int(max(list(x)))) )\n",
    "    \n",
    "    check = ccGroupM.loc[ccGroupM[i].apply(len) != 1]\n",
    "    ownerCheck = ccGroupM.loc[ccGroupM['Ownership'].apply(lambda x: True if (type(x) == set and len(list(x)) > 1) else False)].index\n",
    "    if len(check.index) > 0 and i == 'CHP':\n",
    "        ccGroupM.loc[(ccGroupM[i].apply(len) != 1) & ccGroupM[i] != 'not found', i] = \"Y\"\n",
    "    elif len(ownerCheck) > 1 and i == 'Ownership':\n",
    "         #TODO: make a set, remove duplicates, while adding their percentages\n",
    "        ccGroupM.loc[ownerCheck, 'Ownership'] = ccGroupM.loc[ownerCheck, 'Ownership'].apply('; '.join)\n",
    "    # Wherever there's just one value, replace the set with the value\n",
    "    if i != 'Ownership':\n",
    "        ccGroupM.loc[ccGroupM[i].apply(len) == 1, i] = ccGroupM.loc[ccGroupM[i].apply(len) == 1][i].apply(lambda x: list(x)[0])\n",
    "    else:\n",
    "        ccGroupM.loc[~ccGroupM.index.isin(ownerCheck), i] = ccGroupM.loc[~ccGroupM.index.isin(ownerCheck)][i].apply(''.join)\n",
    "\n",
    "## Merge all CC-type units after editing ##\n",
    "# Join back relevant plant-level columns before append\n",
    "ccGroupM = ccGroupM.merge(eiaBackfill, on='Plant ID', how='left')\n",
    "# Check to make sure columns match first\n",
    "if sorted(list(ccGroupM.columns)) != sorted(list(ccSetsM2.columns)):\n",
    "    print(\"Error, missing columns\")\n",
    "    exit()\n",
    "ccGroupM = ccGroupM.append(ccSetsM2, ignore_index=True)"
   ]
  },
  {
   "cell_type": "code",
   "execution_count": null,
   "metadata": {},
   "outputs": [],
   "source": [
    "# Remove units from eia dataset, add back-in the new sets\n",
    "eiaFormatted.drop(index=ccToRemoveM, inplace=True)\n",
    "\n",
    "# Check to make sure columns match first\n",
    "if sorted(list(eiaFormatted.columns)) != sorted(list(ccGroupM.columns)):\n",
    "    print(\"Error, missing columns\")\n",
    "    exit()\n",
    "\n",
    "# Append CC rows\n",
    "eiaFormatted = eiaFormatted.append(ccGroupM, ignore_index=True)\n",
    "\n",
    "#QC\n",
    "runningRowCount = runningRowCount + len(ccGroupM.index)\n",
    "print('Running row count: ', runningRowCount)"
   ]
  },
  {
   "cell_type": "markdown",
   "metadata": {},
   "source": [
    "## Formatting"
   ]
  },
  {
   "cell_type": "markdown",
   "metadata": {},
   "source": [
    "### Capacity cut-off"
   ]
  },
  {
   "cell_type": "code",
   "execution_count": null,
   "metadata": {},
   "outputs": [],
   "source": [
    "# remove units with capacity issues if not operating/planned\n",
    "tmp = pd.to_numeric(eiaFormatted['Nameplate Capacity (MW)'], errors='coerce')\n",
    "print(\"Units missing capacity data or other errors: \", '\\n', eiaFormatted.loc[tmp.isna(), ['Plant Name','Status_Tab']])\n",
    "\n",
    "#QC\n",
    "runningRowCount = runningRowCount - len(eiaFormatted.loc[tmp.isna()].index)\n",
    "print('Running row count: ', runningRowCount)\n",
    "\n",
    "eiaFormatted.drop(index=eiaFormatted.loc[tmp.isna()].index, inplace=True)\n",
    "\n",
    "# remove units <50 MW\n",
    "eiaFormatted['Nameplate Capacity (MW)'] = eiaFormatted['Nameplate Capacity (MW)'].apply(lambda x: decimal.Decimal(x).quantize(decimal.Decimal('1'), \n",
    "    rounding=decimal.ROUND_HALF_UP)) # Python 3 went to Round Half Even, overriding\n",
    "\n",
    "#QC\n",
    "runningRowCount = runningRowCount - len(eiaFormatted.loc[eiaFormatted['Nameplate Capacity (MW)'] < 50].index)\n",
    "print('Running row count: ', runningRowCount)\n",
    "\n",
    "eiaFormatted.drop(index=eiaFormatted.loc[eiaFormatted['Nameplate Capacity (MW)'] < 50].index, inplace=True)"
   ]
  },
  {
   "cell_type": "markdown",
   "metadata": {},
   "source": [
    "### Technology codes"
   ]
  },
  {
   "cell_type": "code",
   "execution_count": null,
   "metadata": {},
   "outputs": [],
   "source": [
    "# Change 'CS' to 'CC', etc\n",
    "eiaFormatted.loc[eiaFormatted['Prime Mover Code'] == 'CS', 'Prime Mover Code'] = 'CC'\n",
    "\n",
    "# Remove IC and other tech\n",
    "print(\"Current tech codes: \", set(eiaFormatted['Prime Mover Code']))\n",
    "#QC\n",
    "runningRowCount = runningRowCount - len(eiaFormatted.loc[~eiaFormatted['Prime Mover Code'].isin(allowedTechCodes)].index)\n",
    "print('Running row count: ', runningRowCount)\n",
    "\n",
    "eiaFormatted.drop(eiaFormatted.loc[~eiaFormatted['Prime Mover Code'].isin(allowedTechCodes)].index, inplace=True)"
   ]
  },
  {
   "cell_type": "markdown",
   "metadata": {},
   "source": [
    "### Join in 860 data, city"
   ]
  },
  {
   "cell_type": "code",
   "execution_count": null,
   "metadata": {},
   "outputs": [],
   "source": [
    "# Use City column from plant data spreadsheet\n",
    "pDrop = [x for x in plantData.columns.values if x not in ['Plant Code', 'City']]\n",
    "plantData.drop(columns=pDrop, inplace=True)\n",
    "plantData = plantData.astype({'Plant Code':str})\n",
    "eiaFormatted = eiaFormatted.merge(plantData, how='left', left_on='Plant ID', right_on='Plant Code')\n",
    "eiaFormatted.drop(columns=['Plant Code'], inplace=True)\n",
    "\n",
    "# some plants missing from generators table (noticed in Puerto Rico) so backfill NaN\n",
    "eiaFormatted.loc[eiaFormatted['City'].isna(), 'City'] = 'not found'"
   ]
  },
  {
   "cell_type": "markdown",
   "metadata": {},
   "source": [
    "### Generator ID lists to string"
   ]
  },
  {
   "cell_type": "code",
   "execution_count": null,
   "metadata": {},
   "outputs": [],
   "source": [
    "# Backfill single units with a unit name\n",
    "eiaFormatted.loc[eiaFormatted['Unit Code'] == '', 'Unit Code'] = eiaFormatted.loc[eiaFormatted['Unit Code'] == '', 'Generator ID']\n",
    "\n",
    "# Make string for CC units and Other IDs\n",
    "eiaFormatted['Generator ID'] = eiaFormatted['Generator ID'].apply(lambda x: ', '.join(sorted(x)) if (type(x) == list) else x)"
   ]
  },
  {
   "cell_type": "markdown",
   "metadata": {},
   "source": [
    "### EIA Status"
   ]
  },
  {
   "cell_type": "code",
   "execution_count": null,
   "metadata": {},
   "outputs": [],
   "source": [
    "# Standardize status values\n",
    "# statuses = list(eiaFormatted['Status'])\n",
    "# s = []\n",
    "# s += [x for x in statuses if type(x) != set]\n",
    "# print(set(s))\n",
    "st = {\n",
    "    '(U) Under construction, less than or equal to 50 percent complete': 'construction',\n",
    "    '(OP) Operating': 'operating', \n",
    "    '(OS) Out of service and NOT expected to return to service in next calendar year': 'mothballed', \n",
    "    '(OA) Out of service but expected to return to service in next calendar year': 'mothballed', \n",
    "    '(P) Planned for installation, but regulatory approvals not initiated': 'proposed', \n",
    "    '(TS) Construction complete, but not yet in commercial operation': 'construction', \n",
    "    '(T) Regulatory approvals received. Not under construction': 'proposed', \n",
    "    '(V) Under construction, more than 50 percent complete': 'construction', \n",
    "    '(SB) Standby/Backup: available for service but not normally used': 'mothballed', \n",
    "    '(L) Regulatory approvals pending. Not under construction': 'proposed'\n",
    "}\n",
    "\n",
    "for key in st:\n",
    "    eiaFormatted.loc[eiaFormatted['Status'] == key, 'Status'] = st[key]\n",
    "\n",
    "# Reset these statuses to construction\n",
    "eiaFormatted.loc[(eiaFormatted['Plant ID'].isin(setFixPlant)) & eiaFormatted['Unit Code'].isin(setFixUnit), 'Status'] = 'construction'\n",
    "\n",
    "# Pre-process\n",
    "eiaFormatted['Status_Tab'] = eiaFormatted['Status_Tab'].apply(lambda x: x.replace('_pr', ''))\n",
    "\n",
    "# Move \"planned\" tab's start year column\n",
    "eiaFormatted.loc[eiaFormatted['Status_Tab'].isin(['planned']), 'Operating Year'] = eiaFormatted.loc[eiaFormatted['Status_Tab'].isin(['planned']), 'Planned Operation Year']\n",
    "eiaFormatted.drop(columns=['Planned Operation Year'], inplace=True)\n",
    "\n",
    "# Deal with tabs without status column\n",
    "eiaFormatted.loc[(eiaFormatted['Status'] ==  'not found'), 'Status'] = eiaFormatted.loc[(eiaFormatted['Status'] ==  'not found'), 'Status_Tab']\n",
    "eiaFormatted.loc[(eiaFormatted['Status'] ==  'canceled or postponed'), 'Status'] = 'cancelled'\n",
    "eiaFormatted.drop(columns=['Status_Tab'], inplace=True)"
   ]
  },
  {
   "cell_type": "markdown",
   "metadata": {},
   "source": [
    "### Other ID field values for GGPT"
   ]
  },
  {
   "cell_type": "code",
   "execution_count": null,
   "metadata": {},
   "outputs": [],
   "source": [
    "# Create 'Other ID' fields to match GGPT\n",
    "# TODO: match the quotes 'EIA':'5' etc\n",
    "eiaFormatted['Other IDs (location)'] = eiaFormatted['Plant ID'].apply(lambda x: '{EIA: ' + str(x) + '}')\n",
    "eiaFormatted['Other IDs (unit)'] = eiaFormatted['Generator ID'].apply(lambda x: '{EIA: ' + str(x) + '}')"
   ]
  },
  {
   "cell_type": "markdown",
   "metadata": {},
   "source": [
    "### Columns where prefer blank to 'not found' for comparison later"
   ]
  },
  {
   "cell_type": "code",
   "execution_count": null,
   "metadata": {},
   "outputs": [],
   "source": [
    "# eiaFormatted.loc[eiaFormatted['Retirement Year'] == 'not found','Retirement Year'] = ''\n",
    "eiaFormatted.loc[eiaFormatted['Planned Retirement Year'] == 'not found','Planned Retirement Year'] = ''"
   ]
  },
  {
   "cell_type": "markdown",
   "metadata": {},
   "source": [
    "### Find any sets left over, or won't sort values later"
   ]
  },
  {
   "cell_type": "code",
   "execution_count": null,
   "metadata": {},
   "outputs": [],
   "source": [
    "# for i in eiaFormatted.columns:\n",
    "#     print(eiaFormatted.loc[eiaFormatted[i].apply(lambda x: True if (type(x)==set) else False)])\n",
    "\n",
    "# eiaFormatted.loc[eiaFormatted['Plant ID']==10554]"
   ]
  },
  {
   "cell_type": "markdown",
   "metadata": {},
   "source": [
    "## Final QC"
   ]
  },
  {
   "cell_type": "code",
   "execution_count": null,
   "metadata": {},
   "outputs": [],
   "source": [
    "print(\"Starting row count: \", len(eia1.index))\n",
    "\n",
    "print(\"Ending row count: \", len(eiaFormatted.index))\n",
    "\n",
    "print(\"Total removed rows: \", runningRowCount)\n",
    "\n",
    "print(\"Adding removed and end count: \", len(eiaFormatted.index) + (-1*runningRowCount))"
   ]
  },
  {
   "cell_type": "code",
   "execution_count": null,
   "metadata": {},
   "outputs": [],
   "source": [
    "eiaFormatted.to_excel(r'C:\\Users\\Sarah\\Documents\\GEM\\code\\GGPT-US-EIA\\scratch\\eiaFormatted_' + stamp + '.xlsx', index=False)"
   ]
  },
  {
   "cell_type": "code",
   "execution_count": null,
   "metadata": {},
   "outputs": [],
   "source": [
    "# TODO: pygsheets\n",
    "ggpt = pd.read_excel(ggptCopy, sheet_name='GGPT - Gas Units',\n",
    " keep_default_na=False)\n",
    "ggpt = ggpt.loc[ggpt['Country'] == 'United States']"
   ]
  },
  {
   "cell_type": "code",
   "execution_count": null,
   "metadata": {},
   "outputs": [],
   "source": [
    "eiaQC = eiaFormatted.copy(deep=True)\n",
    "eiaQC['labelCheck'] = eiaQC['Plant ID'].apply(str) + \" \" + eiaQC['Generator ID'] # if same as GGPT field drops in compare function, hard to find plants\n",
    "if len(eiaQC.loc[eiaQC.duplicated(subset='labelCheck')].index) > 0:\n",
    "    print('EIA ID ERROR')\n",
    "    eiaQC.loc[eiaQC.duplicated(subset='labelCheck')]\n",
    "\n",
    "# GGPT\n",
    "# example format {'EIA': '56249'}\t{'EIA': '5'}\n",
    "ggpt['Other IDs (location)'] = ggpt['Other IDs (location)'].str.replace(r\"{'EIA': '\", '', regex=True).str.replace(r\"'}\", '', regex=True)\n",
    "\n",
    "ggpt['Other IDs (unit)'] = ggpt['Other IDs (unit)'].str.replace(r\"{'EIA': '\", '', regex=True).str.replace(r\"'}\", '', regex=True)\n",
    "ggpt['Other IDs (unit)'] = ggpt['Other IDs (unit)'].apply(lambda x: x.split(', ') if (', ' in x) else x)\n",
    "ggpt['Other IDs (unit)'] = ggpt['Other IDs (unit)'].apply(lambda x: sorted(x) if (type(x) == list) else x)\n",
    "ggpt['Other IDs (unit)'] = ggpt['Other IDs (unit)'] .apply(lambda x: (', ').join(x) if (type(x) == list) else x)\n",
    "\n",
    "ggpt['labelCheck'] = ggpt['Other IDs (location)'] + \" \" + ggpt['Other IDs (unit)']\n",
    "if len(ggpt.loc[ggpt.duplicated(subset='labelCheck')].index) > 0:\n",
    "    # If the label is blank because GGPT has no EIA data, skip\n",
    "    badLabels = ggpt.loc[(ggpt.duplicated(subset='labelCheck'))]\n",
    "    if len(badLabels.loc[~badLabels['labelCheck'].isin([' ', 'not found not found'])].index) > 0:\n",
    "        print('GGPT ID ERROR')\n",
    "        print(len(badLabels.loc[~badLabels['labelCheck'].isin([' ', 'not found not found'])].index))\n",
    "        print(badLabels.loc[~badLabels['labelCheck'].isin([' ', 'not found not found'])])"
   ]
  },
  {
   "cell_type": "code",
   "execution_count": null,
   "metadata": {},
   "outputs": [],
   "source": [
    "# eiaQC.loc[eiaQC['labelCheck'].apply(lambda x: True if ('61034' in x) else False)]\n",
    "# eiaFormatted.loc[eiaFormatted['Plant ID'].apply(lambda x: True if ('61034' in x) else False)]"
   ]
  },
  {
   "cell_type": "code",
   "execution_count": null,
   "metadata": {},
   "outputs": [],
   "source": [
    "# ggpt.loc[ggpt['labelCheck'].apply(lambda x: True if ('61034' in x) else False)]"
   ]
  },
  {
   "cell_type": "markdown",
   "metadata": {},
   "source": [
    "### Column names to match GGPT"
   ]
  },
  {
   "cell_type": "code",
   "execution_count": null,
   "metadata": {},
   "outputs": [],
   "source": [
    "# drop columns to compare to EIA\n",
    "# Plant name has slight variations and states are in differentf ormat, so have to drop for now as well\n",
    "refCols = [x for x in list(ggpt.columns) if '[ref]' in x]\n",
    "ggpt.drop(columns=refCols, inplace=True)\n",
    "ggpt.drop(columns=['Location accuracy', 'Major area (prefecture, district)',\n",
    "'Parent', 'Sponsor LEI', 'Parent LEI', 'Parent HQ country',\n",
    "'Last Updated', 'Country', 'GEM location ID', 'GEM unit ID', 'WEPP location ID', 'WEPP unit ID',\n",
    "'Plant name (local script)', 'Other plant names', 'Wiki URL', 'Other IDs (location)','Other IDs (unit)','Region',\n",
    "'Plant name', 'Subnational unit (province, state)'], inplace=True)\n",
    "ggpt.reset_index(inplace=True, drop=True)"
   ]
  },
  {
   "cell_type": "code",
   "execution_count": null,
   "metadata": {},
   "outputs": [],
   "source": [
    "\n",
    "# Save this before lose columns for writing excel later\n",
    "eiaQCForPrinting = eiaQC.copy(deep=True)\n",
    "\n",
    "# drop cols\n",
    "eiaQC.drop(columns=['Plant ID', 'Generator ID', 'Other IDs (location)','Other IDs (unit)', \n",
    "'Plant State', 'Plant Name'], inplace=True)\n",
    "\n",
    "eiaQC.reset_index(inplace=True, drop=True)\n",
    "\n",
    "repCols = { \n",
    "  'Ownership': 'Sponsor',\n",
    "  'Unit Code': 'Unit name',\n",
    "   'Nameplate Capacity (MW)': 'Capacity elec. (MW)',\n",
    "   'Prime Mover Code': 'Technology', \n",
    "   'Operating Year': 'Start year', \n",
    "   'Planned Retirement Year': 'Planned retire',\n",
    "      'County': 'Local area (taluk, county)',\n",
    "      'Energy Source Code': 'Fuel'\n",
    "}\n",
    "eiaQC.rename(columns=repCols, inplace=True)\n",
    "\n",
    "eiaQC['Retired year'] = ''"
   ]
  },
  {
   "cell_type": "code",
   "execution_count": null,
   "metadata": {},
   "outputs": [],
   "source": [
    "eiaQC = eiaQC.reindex(columns=sorted(eiaQC.columns))\n",
    "ggpt = ggpt.reindex(columns=sorted(ggpt.columns))"
   ]
  },
  {
   "cell_type": "code",
   "execution_count": null,
   "metadata": {},
   "outputs": [],
   "source": [
    "eiaQC.sort_values(by='labelCheck', ignore_index=True,  inplace=True)\n",
    "ggpt.sort_values(by='labelCheck', ignore_index=True, inplace=True)"
   ]
  },
  {
   "cell_type": "code",
   "execution_count": null,
   "metadata": {},
   "outputs": [],
   "source": [
    "# Crosscheck\n",
    "missingInGGPT=[x for x in list(eiaQC['labelCheck']) if x not in list(ggpt['labelCheck'])]\n",
    "print(len(missingInGGPT))\n",
    "print(len(list(eiaQC['labelCheck'])))\n",
    "\n",
    "# Possibilities: leading zero issue, CC unti split up, units combined, retired (see next cell), etc\n",
    "missingInEIA=[x for x in list(ggpt['labelCheck']) if x not in list(eiaQC['labelCheck'])]"
   ]
  },
  {
   "cell_type": "code",
   "execution_count": null,
   "metadata": {},
   "outputs": [],
   "source": [
    "# GGPT: Check if it's because in retired/shelved tab\n",
    "retired860M['labelCheck'] = retired860M['Plant ID'].astype(str) + ' ' + retired860M['Generator ID'].astype(str)\n",
    "shelved860M['labelCheck'] = shelved860M['Plant ID'].astype(str) + ' ' + shelved860M['Generator ID'].astype(str)\n",
    "retiredGGPT = [x for x in missingInEIA if x in retired860M['labelCheck'].tolist()]\n",
    "shelvedGGPT = [x for x in missingInEIA if x in shelved860M['labelCheck'].tolist()]\n",
    "\n",
    "missingInEIA = [x for x in missingInEIA if x not in retiredGGPT]\n",
    "missingInEIA = [x for x in missingInEIA if x not in shelvedGGPT]"
   ]
  },
  {
   "cell_type": "code",
   "execution_count": null,
   "metadata": {},
   "outputs": [],
   "source": [
    "# EIA -  many of these are coal plants in GCPT that also use NG\n",
    "# TODO: start exception list so don't have to think through this every time (i.e. store the IDs we checked already)\n",
    "# Print from table with all columns so can understand better how missed in GGPT\n",
    "# TODO: print so can easily paste into GGPT as-is\n",
    "eiaQCForPrinting.loc[eiaQCForPrinting['labelCheck'].isin(missingInGGPT)].to_excel(r'C:\\Users\\Sarah\\Documents\\GEM\\code\\GGPT-US-EIA\\scratch\\eiaMissingFromGGPT_' + stamp + '.xlsx', index=False)\n",
    "\n",
    "#GGPT\n",
    "ggpt.loc[ggpt['labelCheck'].isin(missingInEIA)].to_excel(r'C:\\Users\\Sarah\\Documents\\GEM\\code\\GGPT-US-EIA\\scratch\\ggptMissingFromEIA_' + stamp + '.xlsx', index=False)\n",
    "retired860M.loc[retired860M['labelCheck'].isin(retiredGGPT)].to_excel(r'C:\\Users\\Sarah\\Documents\\GEM\\code\\GGPT-US-EIA\\scratch\\ggptRetiredInEIA_' + stamp + '.xlsx', index=False)\n",
    "shelved860M.loc[shelved860M['labelCheck'].isin(shelvedGGPT)].to_excel(r'C:\\Users\\Sarah\\Documents\\GEM\\code\\GGPT-US-EIA\\scratch\\ggptShelvedInEIA_' + stamp + '.xlsx', index=False)"
   ]
  },
  {
   "cell_type": "code",
   "execution_count": null,
   "metadata": {},
   "outputs": [],
   "source": [
    "# For shared IDs, compare\n",
    "eiaQC2 = eiaQC.copy(deep=True)\n",
    "\n",
    "inGGPT = [x for x in list(eiaQC2['labelCheck']) if x in list(ggpt['labelCheck'])]\n",
    "eiaQC2 = eiaQC2.loc[eiaQC2['labelCheck'].isin(inGGPT)]\n",
    "eiaQC2.set_index(keys='labelCheck', inplace=True, drop=False)\n",
    "\n",
    "ggpt2 = ggpt.copy(deep=True)\n",
    "inQC2=[x for x in list(ggpt2['labelCheck']) if x in list(eiaQC2['labelCheck'])]\n",
    "ggpt2 = ggpt2.loc[ggpt2['labelCheck'].isin(inQC2)]\n",
    "ggpt2.set_index(keys='labelCheck', inplace=True, drop=False)\n",
    "\n",
    "print(len(eiaQC2.index))\n",
    "print(len(ggpt2.index))"
   ]
  },
  {
   "cell_type": "code",
   "execution_count": null,
   "metadata": {},
   "outputs": [],
   "source": [
    "# Corece all Year values into strings or else dtype is compared and returns False on int/str matches\n",
    "eiaQC2 = eiaQC2.astype({'Start year':'str', 'Retired year': 'str', 'Planned retire': 'str', 'Latitude': 'str', 'Longitude':'str'})\n",
    "ggpt2 = ggpt2.astype({'Start year':'str', 'Retired year': 'str', 'Planned retire': 'str', 'Latitude': 'str', 'Longitude':'str'})\n",
    "\n",
    "# print(eiaQC2.dtypes)\n",
    "# print(ggpt2.dtypes)"
   ]
  },
  {
   "cell_type": "code",
   "execution_count": null,
   "metadata": {},
   "outputs": [],
   "source": [
    "comparison = eiaQC2.compare(other=ggpt2, keep_shape=False)\n",
    "multiCol=list(comparison.columns)\n",
    "t2 = [x[0]+x[1].replace('self', 'eia') for x in multiCol]\n",
    "\n",
    "c2 = comparison.droplevel(level=[0], axis=1)\n",
    "\n",
    "c2.columns=t2\n",
    "\n",
    "c2.sort_values(by=t2, axis=0, inplace=True)\n",
    "\n",
    "c2.to_excel(r'C:\\Users\\Sarah\\Documents\\GEM\\code\\GGPT-US-EIA\\scratch\\eiaComparedShared_' + stamp + '.xlsx')"
   ]
  }
 ],
 "metadata": {
  "interpreter": {
   "hash": "59914d4cdf2882751604edf3f1dd6385ce640077546f95a91cf3fdd2be269e3e"
  },
  "kernelspec": {
   "display_name": "Python 3.9.1 64-bit",
   "name": "python3"
  },
  "language_info": {
   "codemirror_mode": {
    "name": "ipython",
    "version": 3
   },
   "file_extension": ".py",
   "mimetype": "text/x-python",
   "name": "python",
   "nbconvert_exporter": "python",
   "pygments_lexer": "ipython3",
   "version": "3.9.1"
  },
  "orig_nbformat": 4
 },
 "nbformat": 4,
 "nbformat_minor": 2
}
