{
 "cells": [
  {
   "cell_type": "code",
   "execution_count": null,
   "source": [
    "import pandas as pd\r\n",
    "import decimal "
   ],
   "outputs": [],
   "metadata": {}
  },
  {
   "cell_type": "markdown",
   "source": [
    "# EIA Data #"
   ],
   "metadata": {}
  },
  {
   "cell_type": "markdown",
   "source": [
    "## Format EIA Data ##"
   ],
   "metadata": {}
  },
  {
   "cell_type": "markdown",
   "source": [
    "### Variables"
   ],
   "metadata": {}
  },
  {
   "cell_type": "code",
   "execution_count": null,
   "source": [
    "# The EIA data table is formatted with notes at the beginning and end, drop them from dataframe\r\n",
    "# see skiprows and skipfooter\r\n",
    "eiaDropHead = [0, 1]\r\n",
    "\r\n",
    "# Allowed technolgoy codes\r\n",
    "allowedTechCodes = ['ST','GT','CC']\r\n",
    "\r\n",
    "# Combined cycle is not operable but keep all units\r\n",
    "CT = [10789, 52132, 55372, 55470, 10745, 57953, 54096, 50118]\r\n",
    "\r\n",
    "# Columns we don't need for GGPT (will drop later, putting here for visibility)\r\n",
    "eiaDropCols = ['Sector', 'Net Summer Capacity (MW)', 'Net Winter Capacity (MW)', 'Technology', 'Operating Month', 'Planned Retirement Month', 'Retirement Month', 'Planned Operation Month',\r\n",
    "'Google Map', 'Bing Map', 'Balancing Authority Code', 'Planned Derate Year', 'Planned Derate Month', 'Planned Derate of Summer Capacity (MW)', 'Planned Uprate Year', 'Planned Uprate Month', \r\n",
    "'Planned Uprate of Summer Capacity (MW)']\r\n",
    "\r\n",
    "# EIA list of tabs to merge\r\n",
    "eiaTabs = ['Operating', 'Planned', 'Retired', 'Canceled or Postponed', 'Operating_PR', 'Planned_PR', 'Retired_PR']\r\n",
    "\r\n",
    "eiaColumns = []\r\n",
    "\r\n",
    "eiaList = [] # for storing each tab to merge later, better performance and this is a large table)\r\n",
    "eiaLenQC = 0"
   ],
   "outputs": [],
   "metadata": {}
  },
  {
   "cell_type": "markdown",
   "source": [
    "### Read data"
   ],
   "metadata": {}
  },
  {
   "cell_type": "code",
   "execution_count": null,
   "source": [
    "# Loop over each sheet to read in and merge\r\n",
    "for i in eiaTabs:\r\n",
    "    print(\"Processing tab: \", i)\r\n",
    "\r\n",
    "    eia_ = pd.read_excel(r'C:\\Users\\Sarah\\Documents\\GEM\\research\\North America\\US\\EIA\\july_generator2021.xlsx', sheet_name=i, skiprows=eiaDropHead, skipfooter=2, keep_default_na=False)\r\n",
    "    eiaColumns += [x for x in eia_.columns if x not in eiaColumns]\r\n",
    "\r\n",
    "    eiaLenQC += len(eia_.index) # Can compare this number later to the sum of all rows in the EIA Excel sheet\r\n",
    "\r\n",
    "    # Keep only gas-fired plants\r\n",
    "    eia_ = eia_.loc[eia_['Energy Source Code'] == 'NG']\r\n",
    "   \r\n",
    "    # Add status column based on the tab's name, EIA Status column inconsistent\r\n",
    "    eia_['Status_Tab'] = i.lower()\r\n",
    "            \r\n",
    "    # Store this tab's data to merge\r\n",
    "    eiaList += [eia_]"
   ],
   "outputs": [],
   "metadata": {}
  },
  {
   "cell_type": "markdown",
   "source": [
    "### Backfill columns that are missing in each tab\r\n",
    "\r\n",
    "Columns not in other tabs will backfill as NaN, and worse, for integer columns\r\n",
    "will backfill as a NaN float because NaN can't be an integer (e.g. Retired Year column).\r\n",
    "Can't blanket apply .fillna() because some columns are string and other float, throws error.\r\n",
    "And if leave float NaN, when try to create Sets later on for merging rows, they don't reduce\r\n",
    "(float NaN have some kind of differentiating ID that disallows counting as duplicates)"
   ],
   "metadata": {}
  },
  {
   "cell_type": "code",
   "execution_count": null,
   "source": [
    "for i in eiaList:\r\n",
    "    # Columns\r\n",
    "    for col in eiaColumns:\r\n",
    "        if col not in i.columns:\r\n",
    "            i[col] = 'not found'\r\n",
    "\r\n",
    "colLen = set()\r\n",
    "for i in eiaList:\r\n",
    "    # print(len(list(i.columns)))\r\n",
    "    colLen.add(len(list(i.columns)))\r\n",
    "if len(colLen) != 1:\r\n",
    "    print('Error in columns.')\r\n",
    "else:\r\n",
    "    print('Columns complete.')"
   ],
   "outputs": [],
   "metadata": {}
  },
  {
   "cell_type": "markdown",
   "source": [
    "### Combine tabs"
   ],
   "metadata": {}
  },
  {
   "cell_type": "code",
   "execution_count": null,
   "source": [
    "# Combine tabs\r\n",
    "eia = pd.concat(eiaList)\r\n",
    "\r\n",
    "# Drop columns\r\n",
    "eia.drop(columns=eiaDropCols, inplace=True)\r\n",
    "\r\n",
    "# Total rows\r\n",
    "print('\\n')\r\n",
    "print(\"Total row count of all tabs: \", eiaLenQC, '\\n')\r\n",
    "print(\"Total row count, only NG-fired units: \", len(eia.index), '\\n')"
   ],
   "outputs": [],
   "metadata": {}
  },
  {
   "cell_type": "markdown",
   "source": [
    "## Merge individual combined cycle units into single sets ##"
   ],
   "metadata": {}
  },
  {
   "cell_type": "markdown",
   "source": [
    "### Groupby \"Unit Code\", the identifier for common components of a combined cycle set"
   ],
   "metadata": {}
  },
  {
   "cell_type": "code",
   "execution_count": null,
   "source": [
    "# Merge units into proper sets\r\n",
    "# 'ST', 'GT', and 'CS' are individual. 'CA' (steam) and 'CT' (gas turbine) need to be combined to 'CC'\r\n",
    "ccSets = eia.loc[eia['Prime Mover Code'].isin(['CA', 'CT'])]\r\n",
    "\r\n",
    "#Deal with these units separately\r\n",
    "ccSets = ccSets.drop(index=ccSets.loc[ccSets['Plant ID'].isin(CT)].index)\r\n",
    "ccToRemove = ccSets.index\r\n",
    "\r\n",
    "# Group by plant ID and Unit Code fields\r\n",
    "# Sum capacities, group Generator IDs, keep sets of values that could possibly vary between units\r\n",
    "ccGroup = ccSets.groupby(['Plant ID', 'Unit Code', 'Status_Tab'], as_index=False).agg({'Nameplate Capacity (MW)': 'sum', 'Generator ID': lambda x: list(x), 'Status': lambda x: set(x),\r\n",
    "'Operating Year': lambda x: set(x), 'Planned Retirement Year': lambda x: set(x), 'Planned Operation Year': lambda x: set(x), 'Retirement Year': lambda x: set(x), 'Entity ID': lambda x: set(x),\r\n",
    "'Entity Name': lambda x: set(x)})\r\n",
    "\r\n",
    "# Set the correct tech code\r\n",
    "ccGroup['Prime Mover Code'] = 'CC'"
   ],
   "outputs": [],
   "metadata": {}
  },
  {
   "cell_type": "markdown",
   "source": [
    "### Deal with conflicting values from merged rows, such as start year"
   ],
   "metadata": {}
  },
  {
   "cell_type": "code",
   "execution_count": null,
   "source": [
    "# Check Sets for multiple values and turn into a range if necessary (e.g. different start years for units of a CC generator)\r\n",
    "checkSets = ['Status', 'Operating Year', 'Planned Retirement Year', 'Planned Operation Year', 'Retirement Year', 'Entity ID','Entity Name']\r\n",
    "for i in checkSets:\r\n",
    "    # Wherever there are multiple values print them to screen\r\n",
    "    print('\\n', i)\r\n",
    "    print(\"Cells with multiple values: \", len(ccGroup.loc[ccGroup[i].apply(len) != 1].index))\r\n",
    "    # Possible issues combing NaN and year\r\n",
    "    if len(ccGroup.loc[(ccGroup[i].apply(lambda x: 'not found' in list(x))) & (ccGroup[i].apply(len) > 1)].index) > 0:\r\n",
    "        print('ERROR Values and not founds: ', len(ccGroup.loc[(ccGroup[i].apply(lambda x: 'not found' in list(x))) & (ccGroup[i].apply(len) > 1)].index))\r\n",
    "    # For mutliple years per new CC value, create year range\r\n",
    "    check = []\r\n",
    "    check = ccGroup.loc[ccGroup[i].apply(len) != 1]\r\n",
    "    if len(check) > 0 and 'Year' in i:\r\n",
    "        ccGroup.loc[ccGroup[i].apply(len) != 1, i] = ccGroup.loc[ccGroup[i].apply(len) != 1][i].apply(lambda x: str(int(min(list(x)))) + '-' +  str(int(max(list(x)))) )\r\n",
    "    else:\r\n",
    "        print(\"Manually fix: \", i)\r\n",
    "        print(ccGroup.loc[ccGroup[i].apply(len) != 1])\r\n",
    "        # ccGroup.loc[ccGroup[i].apply(len) != 1].to_excel('./ERRORS.xlsx', index=False)\r\n",
    "    # Wherever there's just one value, replace the set with the value\r\n",
    "    ccGroup.loc[ccGroup[i].apply(len) == 1, i] = ccGroup.loc[ccGroup[i].apply(len) == 1][i].apply(lambda x: list(x)[0])"
   ],
   "outputs": [],
   "metadata": {}
  },
  {
   "cell_type": "code",
   "execution_count": null,
   "source": [
    "# Join back relevant plant-level columns\r\n",
    "eiaBackfill = eia.drop_duplicates(subset='Plant ID', ignore_index=True)\r\n",
    "eiaBackfill = eiaBackfill.drop(columns=['Unit Code', 'Nameplate Capacity (MW)', 'Generator ID', 'Status', 'Operating Year', 'Planned Retirement Year', 'Planned Operation Year',\r\n",
    "'Retirement Year', 'Entity ID', 'Entity Name', 'Prime Mover Code', 'Status_Tab'])\r\n",
    "ccGroupJoin = ccGroup.merge(eiaBackfill, on='Plant ID', how='left')"
   ],
   "outputs": [],
   "metadata": {}
  },
  {
   "cell_type": "code",
   "execution_count": null,
   "source": [
    "# Remove units from eia dataset, add back-in the new sets\r\n",
    "eiaFormatted = eia.drop(index=ccToRemove)\r\n",
    "\r\n",
    "# Check to make sure columns match first\r\n",
    "if sorted(list(eiaFormatted.columns)) != sorted(list(ccGroupJoin.columns)):\r\n",
    "    print(\"Error, missing columns\")\r\n",
    "    exit()\r\n",
    "\r\n",
    "# Append CC rows\r\n",
    "eiaFormatted = eiaFormatted.append(ccGroupJoin, ignore_index=True)"
   ],
   "outputs": [],
   "metadata": {}
  },
  {
   "cell_type": "markdown",
   "source": [
    "### Combined cycle fixes"
   ],
   "metadata": {}
  },
  {
   "cell_type": "code",
   "execution_count": null,
   "source": [
    "# Manual fixes\r\n",
    "# For single units in standby within CC unit\r\n",
    "# convert tech to just GT or ST and make mothballed\r\n",
    "\r\n",
    "# Unit ids\r\n",
    "CT_U = list(eiaFormatted.loc[eiaFormatted['Plant ID'].isin(CT)].index)\r\n",
    "\r\n",
    "# Deal with mothballed generators\r\n",
    "sepCode = ['\\(SB\\)', '\\(OS\\)', '\\(OA\\)']\r\n",
    "ccSetsSkip = eiaFormatted.loc[(eiaFormatted['Status'].str.contains('|'.join(sepCode))) & (eiaFormatted['Plant ID'].isin(CT)) & eiaFormatted['Prime Mover Code'].isin(['CT','CA'])]\r\n",
    "CT_2 = [x for x in CT_U if x not in list(ccSetsSkip.index)]\r\n",
    "\r\n",
    "for x in list(ccSetsSkip.index):\r\n",
    "    eiaFormatted.loc[x, 'Status'] = 'mothballed'\r\n",
    "    if eiaFormatted.loc[x, 'Prime Mover Code'] == 'CT':\r\n",
    "        eiaFormatted.loc[x, 'Prime Mover Code'] = 'GT'\r\n",
    "    else:\r\n",
    "        eiaFormatted.loc[x, 'Prime Mover Code'] = 'ST'"
   ],
   "outputs": [],
   "metadata": {}
  },
  {
   "cell_type": "code",
   "execution_count": null,
   "source": [
    "# Now see if there's still a CC unit with one status to combine\r\n",
    "# Merge units into proper sets\r\n",
    "# 'ST', 'GT', and 'CS' are individual. 'CA' (steam) and 'CT' (gas turbine) need to be combined to 'CC'\r\n",
    "ccSetsM = eiaFormatted.loc[eiaFormatted['Prime Mover Code'].isin(['CA', 'CT'])]\r\n",
    "ccSetsM = ccSetsM.loc[ccSetsM.index.isin(CT_2)]\r\n",
    "ccToRemoveM = ccSetsM.index\r\n",
    "\r\n",
    "# Group by plant ID and Unit Code fields\r\n",
    "# Sum capacities, group Generator IDs, keep sets of values that could possibly vary between units\r\n",
    "ccGroupM = ccSetsM.groupby(['Plant ID', 'Unit Code', 'Status_Tab'], as_index=False).agg({'Prime Mover Code': lambda x: set(x), 'Nameplate Capacity (MW)': 'sum', 'Generator ID': lambda x: list(x), 'Status': lambda x: set(x),\r\n",
    "'Operating Year': lambda x: set(x), 'Planned Retirement Year': lambda x: set(x), 'Planned Operation Year': lambda x: set(x), 'Retirement Year': lambda x: set(x), 'Entity ID': lambda x: set(x),\r\n",
    "'Entity Name': lambda x: set(x)})\r\n",
    "\r\n",
    "# Check for multiple statuses\r\n",
    "print(\"Cells with multiple Status values: \", ccGroupM.loc[ccGroupM['Status'].apply(len) != 1])\r\n",
    "\r\n",
    "# Check is a CC unit still\r\n",
    "ccGroupM.loc[ccGroupM['Prime Mover Code'].apply(len) > 1, 'Prime Mover Code'] = 'CC'\r\n",
    "ccGroupM.loc[ccGroupM['Prime Mover Code'] == {'CT'}, 'Prime Mover Code'] = 'GT'\r\n",
    "ccGroupM.loc[ccGroupM['Prime Mover Code'] == {'CA'}, 'Prime Mover Code'] = 'ST'\r\n",
    "\r\n",
    "# Check Sets for multiple values and turn into a range if necessary (e.g. different start years for units of a CC generator)\r\n",
    "for i in ['Operating Year', 'Planned Retirement Year', 'Planned Operation Year', 'Retirement Year']: \r\n",
    "    print('\\n', i)\r\n",
    "    # Possible issues combing NaN and year\r\n",
    "    if len(ccGroupM.loc[(ccGroupM[i].apply(lambda x: 'not found' in list(x))) & (ccGroupM[i].apply(len) > 1)].index) > 0:\r\n",
    "        print('ERROR Values and not founds: ', len(ccGroupM.loc[(ccGroupM[i].apply(lambda x: 'not found' in list(x))) & (ccGroupM[i].apply(len) > 1)].index))\r\n",
    "   \r\n",
    "    # For mutliple years per new CC value, create year range\r\n",
    "    ccGroupM.loc[ccGroupM[i].apply(len) != 1, i] = ccGroupM.loc[ccGroupM[i].apply(len) != 1][i].apply(lambda x: str(int(min(list(x)))) + '-' +  str(int(max(list(x)))) )\r\n",
    "   \r\n",
    "    # Wherever there's just one value, replace the set with the value\r\n",
    "    ccGroupM.loc[ccGroupM[i].apply(len) == 1, i] = ccGroupM.loc[ccGroupM[i].apply(len) == 1][i].apply(lambda x: list(x)[0])\r\n"
   ],
   "outputs": [],
   "metadata": {}
  },
  {
   "cell_type": "code",
   "execution_count": null,
   "source": [
    "# Join back relevant plant-level columns\r\n",
    "ccGroupJoinM = ccGroupM.merge(eiaBackfill, on='Plant ID', how='left')\r\n",
    "\r\n",
    "# Remove units from eia dataset, add back-in the new sets\r\n",
    "eiaFormatted.drop(index=ccToRemoveM, inplace=True)\r\n",
    "\r\n",
    "# Check to make sure columns match first\r\n",
    "if sorted(list(eiaFormatted.columns)) != sorted(list(ccGroupJoinM.columns)):\r\n",
    "    print(\"Error, missing columns\")\r\n",
    "    exit()\r\n",
    "\r\n",
    "# Append CC rows\r\n",
    "eiaFormatted = eiaFormatted.append(ccGroupJoinM, ignore_index=True)"
   ],
   "outputs": [],
   "metadata": {}
  },
  {
   "cell_type": "markdown",
   "source": [
    "## Formatting"
   ],
   "metadata": {}
  },
  {
   "cell_type": "markdown",
   "source": [
    "### Capacity cut-off"
   ],
   "metadata": {}
  },
  {
   "cell_type": "code",
   "execution_count": null,
   "source": [
    "# remove units <50 MW\r\n",
    "tmp = pd.to_numeric(eiaFormatted['Nameplate Capacity (MW)'], errors='coerce')\r\n",
    "print(\"Units missing capacity data or other errors: \", '\\n', eiaFormatted.loc[tmp.isna(), ['Plant Name','Status_Tab']])\r\n",
    "eiaFormatted.drop(index=eiaFormatted.loc[tmp.isna()].index, inplace=True)\r\n",
    "eiaFormatted['Nameplate Capacity (MW)'] = eiaFormatted['Nameplate Capacity (MW)'].apply(lambda x: decimal.Decimal(x).quantize(decimal.Decimal('1'), \r\n",
    "    rounding=decimal.ROUND_HALF_UP)) # Python 3 went to Round Half Even, overriding\r\n",
    "eiaFormatted.drop(index=eiaFormatted.loc[eiaFormatted['Nameplate Capacity (MW)'] < 50].index, inplace=True)"
   ],
   "outputs": [],
   "metadata": {}
  },
  {
   "cell_type": "markdown",
   "source": [
    "### Technology codes"
   ],
   "metadata": {}
  },
  {
   "cell_type": "code",
   "execution_count": null,
   "source": [
    "# Change 'CS' to 'CC', etc\r\n",
    "eiaFormatted.loc[eiaFormatted['Prime Mover Code'] == 'CS', 'Prime Mover Code'] = 'CC'\r\n",
    "eiaFormatted.loc[eiaFormatted['Prime Mover Code'] == 'CT', 'Prime Mover Code'] = 'GT'\r\n",
    "eiaFormatted.loc[eiaFormatted['Prime Mover Code'] == 'CA', 'Prime Mover Code'] = 'ST'\r\n",
    "\r\n",
    "# Remove IC and other tech\r\n",
    "print(\"Current tech codes: \", set(eiaFormatted['Prime Mover Code']))\r\n",
    "print(\"Old row count: \", len(eiaFormatted.index))\r\n",
    "eiaFormatted.drop(eiaFormatted.loc[~eiaFormatted['Prime Mover Code'].isin(allowedTechCodes)].index, inplace=True)\r\n",
    "print(\"New row count: \", len(eiaFormatted.index))\r\n"
   ],
   "outputs": [],
   "metadata": {}
  },
  {
   "cell_type": "markdown",
   "source": [
    "### EIA Status"
   ],
   "metadata": {}
  },
  {
   "cell_type": "code",
   "execution_count": null,
   "source": [
    "# Standardize status values\r\n",
    "# statuses = list(eiaFormatted['Status'])\r\n",
    "# s = []\r\n",
    "# s += [x for x in statuses if type(x) != set]\r\n",
    "# print(set(s))\r\n",
    "st = {\r\n",
    "    '(U) Under construction, less than or equal to 50 percent complete': 'construction',\r\n",
    "    '(OP) Operating': 'operating', \r\n",
    "    '(OS) Out of service and NOT expected to return to service in next calendar year': 'mothballed', \r\n",
    "    '(OA) Out of service but expected to return to service in next calendar year': 'mothballed', \r\n",
    "    '(P) Planned for installation, but regulatory approvals not initiated': 'proposed', \r\n",
    "    '(TS) Construction complete, but not yet in commercial operation': 'construction', \r\n",
    "    '(T) Regulatory approvals received. Not under construction': 'proposed', \r\n",
    "    '(V) Under construction, more than 50 percent complete': 'construction', \r\n",
    "    '(SB) Standby/Backup: available for service but not normally used': 'mothballed', \r\n",
    "    '(L) Regulatory approvals pending. Not under construction': 'proposed'\r\n",
    "}\r\n",
    "\r\n",
    "for key in st:\r\n",
    "    eiaFormatted.loc[eiaFormatted['Status'] == key] = st[key]\r\n",
    "\r\n",
    "# Reset these statuses to construction\r\n",
    "setFixPlant = [613, 10554]\r\n",
    "setFixUnit = ['DBCC','']\r\n",
    "\r\n",
    "eiaFormatted.loc[(eiaFormatted['Plant ID'].isin(setFixPlant)) & eiaFormatted['Unit Code'].isin(setFixUnit), 'Status'] = 'construction'"
   ],
   "outputs": [],
   "metadata": {}
  },
  {
   "cell_type": "markdown",
   "source": [
    "### Column names to match GGPT"
   ],
   "metadata": {}
  },
  {
   "cell_type": "code",
   "execution_count": null,
   "source": [],
   "outputs": [],
   "metadata": {}
  },
  {
   "cell_type": "markdown",
   "source": [
    "### Other ID field values for GGPT"
   ],
   "metadata": {}
  },
  {
   "cell_type": "code",
   "execution_count": null,
   "source": [
    "# Create 'Other ID' fields to match GGPT"
   ],
   "outputs": [],
   "metadata": {}
  },
  {
   "cell_type": "code",
   "execution_count": null,
   "source": [
    "# ccGroup.loc[ccGroup['Status'].apply(len) != 1].to_excel(r'C:\\Users\\Sarah\\Documents\\GEM\\code\\GGPT-US-EIA\\scratch\\eiaFormatted.xlsx', index=False)"
   ],
   "outputs": [],
   "metadata": {}
  },
  {
   "cell_type": "markdown",
   "source": [
    "# Compare new EIA data to existing GGPT values\r\n"
   ],
   "metadata": {}
  },
  {
   "cell_type": "code",
   "execution_count": null,
   "source": [
    "# Match IDs to GGPT and compare field values (status, capacity, year)\r\n",
    "\r\n",
    "# Locate any new unit IDs\r\n",
    "\r\n",
    "# Check capacity for any new units\r\n",
    "\r\n",
    "# Join CHP"
   ],
   "outputs": [],
   "metadata": {}
  },
  {
   "cell_type": "code",
   "execution_count": null,
   "source": [
    "# Check for missing dual-fuel plants in EIA-860\r\n"
   ],
   "outputs": [],
   "metadata": {}
  },
  {
   "cell_type": "code",
   "execution_count": null,
   "source": [
    "# Add in ownership information from separate EIA table"
   ],
   "outputs": [],
   "metadata": {}
  }
 ],
 "metadata": {
  "orig_nbformat": 4,
  "language_info": {
   "name": "python",
   "version": "3.9.1",
   "mimetype": "text/x-python",
   "codemirror_mode": {
    "name": "ipython",
    "version": 3
   },
   "pygments_lexer": "ipython3",
   "nbconvert_exporter": "python",
   "file_extension": ".py"
  },
  "kernelspec": {
   "name": "python3",
   "display_name": "Python 3.9.1 64-bit"
  },
  "interpreter": {
   "hash": "59914d4cdf2882751604edf3f1dd6385ce640077546f95a91cf3fdd2be269e3e"
  }
 },
 "nbformat": 4,
 "nbformat_minor": 2
}