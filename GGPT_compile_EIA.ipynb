{
 "cells": [
  {
   "cell_type": "code",
   "execution_count": null,
   "metadata": {},
   "outputs": [],
   "source": [
    "import pandas as pd\n",
    "import decimal\n",
    "import numpy as np\n",
    "from datetime import datetime"
   ]
  },
  {
   "cell_type": "markdown",
   "metadata": {},
   "source": [
    "# EIA Data #"
   ]
  },
  {
   "cell_type": "markdown",
   "metadata": {},
   "source": [
    "## Initalize"
   ]
  },
  {
   "cell_type": "markdown",
   "metadata": {},
   "source": [
    "### Variables"
   ]
  },
  {
   "cell_type": "code",
   "execution_count": null,
   "metadata": {},
   "outputs": [],
   "source": [
    "stamp = datetime.now().strftime(\"%m %d %Y %H-%M-%S\")\n",
    "\n",
    "# The EIA data table is formatted with notes at the beginning and end, drop them from dataframe\n",
    "# see skiprows and skipfooter\n",
    "eiaDropHead = [0, 1]\n",
    "\n",
    "# Allowed technolgoy codes\n",
    "allowedTechCodes = ['ST','GT','CC']\n",
    "\n",
    "# Combined cycle is not operable but keep all units\n",
    "CT = [10789, 52132, 55372, 55470, 10745, 57953, 54096, 50118]\n",
    "\n",
    "# Reset these statuses to construction\n",
    "setFixPlant = [613, 10554]\n",
    "setFixUnit = ['DBCC','CC_set']\n",
    "\n",
    "# Columns we don't need for GGPT (will drop later, putting here for visibility)\n",
    "eiaDropCols = ['Sector', 'Net Summer Capacity (MW)', 'Net Winter Capacity (MW)', 'Technology', 'Operating Month', 'Planned Retirement Month', 'Planned Operation Month',\n",
    "'Google Map', 'Bing Map', 'Balancing Authority Code', 'Planned Derate Year', 'Planned Derate Month', 'Planned Derate of Summer Capacity (MW)', 'Planned Uprate Year', 'Planned Uprate Month', \n",
    "'Planned Uprate of Summer Capacity (MW)']\n",
    "\n",
    "# EIA list of tabs to merge\n",
    "# eiaTabs = ['Operating', 'Planned', 'Retired', 'Canceled or Postponed', 'Operating_PR', 'Planned_PR', 'Retired_PR']\n",
    "eiaTabs = ['Operating', 'Planned', 'Operating_PR', 'Planned_PR']\n",
    "\n",
    "eiaColumns = []\n",
    "\n",
    "eiaList = [] # for storing each tab to merge later, better performance and this is a large table)\n",
    "eiaLenQC = 0\n",
    "\n",
    "#\n",
    "runningRowCount= 0\n",
    "\n",
    "#\n",
    "generatorTabs = ['Operable', 'Proposed', 'Retired and Canceled']"
   ]
  },
  {
   "cell_type": "markdown",
   "metadata": {},
   "source": [
    "### Read 860M data"
   ]
  },
  {
   "cell_type": "code",
   "execution_count": null,
   "metadata": {},
   "outputs": [],
   "source": [
    "# Loop over each sheet to read in and merge\n",
    "for i in eiaTabs:\n",
    "    print(\"Processing tab: \", i)\n",
    "\n",
    "    eia_ = pd.read_excel(r'C:\\Users\\Sarah\\Documents\\GEM\\research\\North America\\US\\EIA\\july_generator2021.xlsx', sheet_name=i, skiprows=eiaDropHead, skipfooter=2, keep_default_na=False)\n",
    "    eiaColumns += [x for x in eia_.columns if x not in eiaColumns]\n",
    "\n",
    "    eiaLenQC += len(eia_.index) # Can compare this number later to the sum of all rows in the EIA Excel sheet\n",
    "\n",
    "    # Keep only gas-fired plants\n",
    "    eia_ = eia_.loc[eia_['Energy Source Code'] == 'NG']\n",
    "   \n",
    "    # Add status column based on the tab's name, EIA Status column inconsistent\n",
    "    eia_['Status_Tab'] = i.lower()\n",
    "            \n",
    "    # Store this tab's data to merge\n",
    "    eiaList += [eia_]"
   ]
  },
  {
   "cell_type": "markdown",
   "metadata": {},
   "source": [
    "### Store 860M retirement data separately"
   ]
  },
  {
   "cell_type": "code",
   "execution_count": null,
   "metadata": {},
   "outputs": [],
   "source": [
    "# Mason didn't put retired or canceled units in the original push so adding them know creates a lot of errors in table comparison"
   ]
  },
  {
   "cell_type": "markdown",
   "metadata": {},
   "source": [
    "### Backfill columns that are missing in each tab\n",
    "\n",
    "Columns not in other tabs will backfill as NaN, and worse, for integer columns\n",
    "will backfill as a NaN float because NaN can't be an integer (e.g. Retired Year column).\n",
    "Can't blanket apply .fillna() because some columns are string and other float, throws error.\n",
    "And if leave float NaN, when try to create Sets later on for merging rows, they don't reduce\n",
    "(float NaN have some kind of differentiating ID that disallows counting as duplicates)"
   ]
  },
  {
   "cell_type": "code",
   "execution_count": null,
   "metadata": {},
   "outputs": [],
   "source": [
    "for i in eiaList:\n",
    "    # Columns\n",
    "    for col in eiaColumns:\n",
    "        if col not in i.columns:\n",
    "            i[col] = 'not found'\n",
    "\n",
    "colLen = set()\n",
    "for i in eiaList:\n",
    "    # print(len(list(i.columns)))\n",
    "    colLen.add(len(list(i.columns)))\n",
    "if len(colLen) != 1:\n",
    "    print('Error in columns.')\n",
    "else:\n",
    "    print('Columns complete.')"
   ]
  },
  {
   "cell_type": "markdown",
   "metadata": {},
   "source": [
    "### Combine tabs"
   ]
  },
  {
   "cell_type": "code",
   "execution_count": null,
   "metadata": {},
   "outputs": [],
   "source": [
    "# Combine tabs\n",
    "eia = pd.concat(eiaList)\n",
    "\n",
    "# Drop columns\n",
    "eia.drop(columns=eiaDropCols, inplace=True)\n",
    "\n",
    "# Total rows\n",
    "print('\\n')\n",
    "print(\"Total row count of all tabs: \", eiaLenQC, '\\n')\n",
    "print(\"Total row count, only NG-fired units: \", len(eia.index), '\\n')"
   ]
  },
  {
   "cell_type": "markdown",
   "metadata": {},
   "source": [
    "### Read 860 Data"
   ]
  },
  {
   "cell_type": "code",
   "execution_count": null,
   "metadata": {},
   "outputs": [],
   "source": [
    "# 860 spreadsheets, single tab\n",
    "plantData = pd.read_excel(r'C:\\Users\\Sarah\\Documents\\GEM\\research\\North America\\US\\EIA\\eia8602020\\2___Plant_Y2020.xlsx', skiprows=[0], keep_default_na=False)\n",
    "ownerData = pd.read_excel(r'C:\\Users\\Sarah\\Documents\\GEM\\research\\North America\\US\\EIA\\eia8602020\\4___Owner_Y2020.xlsx', skiprows=[0], keep_default_na=False)\n",
    "\n",
    "# Loop over each sheet to read in and merge\n",
    "g_=[]\n",
    "for i in generatorTabs:\n",
    "    print(\"Processing tab: \", i)\n",
    "    if i in ['Operable', 'Proposed']:\n",
    "        gData = pd.read_excel(r\"C:\\Users\\Sarah\\Documents\\GEM\\research\\North America\\US\\EIA\\eia8602020\\3_1_Generator_Y2020.xlsx\", sheet_name=i, skiprows=[0], skipfooter=1, keep_default_na=False)\n",
    "    else:\n",
    "        gData = pd.read_excel(r\"C:\\Users\\Sarah\\Documents\\GEM\\research\\North America\\US\\EIA\\eia8602020\\3_1_Generator_Y2020.xlsx\", sheet_name=i, skiprows=[0], keep_default_na=False)\n",
    "    \n",
    "    gCol = [x for x in list(gData.columns) if x not in ['Generator ID', 'Plant Code', 'Energy Source 1', 'Energy Source 2', 'Energy Source 3', 'Energy Source 4', 'Energy Source 5', 'Energy Source 6', \n",
    "    'Associated with Combined Heat and Power System']]\n",
    "    gData.drop(columns=gCol, inplace=True)\n",
    "\n",
    "    # Keep ~only gas-fired plants\n",
    "    # gIndex = gData.loc[~gData['Plant Code'].isin(list(eia['Plant ID']))].index\n",
    "    # gData.drop(index=gIndex, inplace=True)\n",
    "            \n",
    "    # Store this tab's data to merge\n",
    "    g_ += [gData]\n",
    "\n",
    "# Combine tabs\n",
    "generatorData = pd.concat(g_)"
   ]
  },
  {
   "cell_type": "markdown",
   "metadata": {},
   "source": [
    "## Add 860 data"
   ]
  },
  {
   "cell_type": "markdown",
   "metadata": {},
   "source": [
    "### 860 Fuels + CHP\n",
    "### (fuel has to be before Generator IDs become lists or else can't merge easily)"
   ]
  },
  {
   "cell_type": "code",
   "execution_count": null,
   "metadata": {},
   "outputs": [],
   "source": [
    "# EIA fuel columns\n",
    "fuelCols = ['Energy Source 1', 'Energy Source 2', 'Energy Source 3', 'Energy Source 4', 'Energy Source 5', 'Energy Source 6']\n",
    "\n",
    "# Dictionary of some EIA fuel codes to GGPT domain\n",
    "fuelMix = {'OBS':'B',\n",
    "'WDS':'B',\n",
    "'BFG':'BFG',\n",
    "'OBL':'BL',\n",
    "'WDL':'BL',\n",
    "'ANT':'C',\n",
    "'BIT':'C',\n",
    "'LIG':'C',\n",
    "'SGC':'C',\n",
    "'SUB':'C',\n",
    "'WC':'C',\n",
    "'RC':'C',\n",
    "'DFO':'FO',\n",
    "'RFO':'FO',\n",
    "'JF':'J',\n",
    "'SUN':'S',\n",
    "'SGP':'SG'}\n",
    "\n",
    "# Redo fuel codes\n",
    "for i in fuelCols:\n",
    "   generatorData[i] = generatorData[i].apply(lambda x: fuelMix[x] if (x in fuelMix.keys()) else x)"
   ]
  },
  {
   "cell_type": "code",
   "execution_count": null,
   "metadata": {},
   "outputs": [],
   "source": [
    "# Merge fuels into one column\n",
    "generatorData['fuelMerge'] = generatorData[fuelCols].apply(lambda row: '/'.join([x for x in row if x != '']), axis=1)\n",
    "\n",
    "# multi-column matching issue, so made single index; can't '+' if there's hidden strings or ints in the column\n",
    "generatorData = generatorData.astype({'Plant Code':'str', 'Generator ID': 'str'})\n",
    "generatorData['gMix'] = list(generatorData['Plant Code'] + \"_\" + generatorData['Generator ID'])\n",
    "\n",
    "eia = eia.astype({'Plant ID':'str', 'Generator ID': 'str'})\n",
    "eia['gMix'] = list(eia['Plant ID'] + \"_\" + eia['Generator ID'])\n",
    "\n",
    "rmGenCols = fuelCols + ['Plant Code', 'Generator ID']\n",
    "g2 = generatorData.drop(columns=rmGenCols)\n",
    "g2.rename(columns={\"Associated with Combined Heat and Power System\": 'CHP'}, inplace=True)\n",
    "\n",
    "\n",
    "# merge\n",
    "eia = eia.merge(g2, how='left', on='gMix')"
   ]
  },
  {
   "cell_type": "code",
   "execution_count": null,
   "metadata": {},
   "outputs": [],
   "source": [
    "# Fix unmatched CHP values, if any\n",
    "print(\"This many CHP errors: \", len(eia.loc[eia['CHP'].isna()].index))\n",
    "eia.loc[eia['CHP'].isna(), \"CHP\"] = 'not found'\n",
    "\n",
    "# Compare Energy Code column to fuelMerge and replace where needed\n",
    "print(\"This many Fuel errors: \", len(eia.loc[(eia['Energy Source Code'] != eia['fuelMerge']) & (~eia['fuelMerge'].isna()), 'Energy Source Code']))\n",
    "eia.loc[(eia['Energy Source Code'] != eia['fuelMerge']) & (~eia['fuelMerge'].isna()), 'Energy Source Code'] = eia.loc[(eia['Energy Source Code'] != eia['fuelMerge']) & (~eia['fuelMerge'].isna()), 'fuelMerge']\n",
    "\n",
    "# Drop extra columns after merge\n",
    "eia = eia.drop(columns=['gMix', 'fuelMerge'])"
   ]
  },
  {
   "cell_type": "markdown",
   "metadata": {},
   "source": [
    "### Join in 860 data, ownership"
   ]
  },
  {
   "cell_type": "code",
   "execution_count": null,
   "metadata": {},
   "outputs": [],
   "source": [
    "ownerData = pd.read_excel(r'C:\\Users\\Sarah\\Documents\\GEM\\research\\North America\\US\\EIA\\eia8602020\\4___Owner_Y2020.xlsx', skiprows=[0], keep_default_na=False)\n"
   ]
  },
  {
   "cell_type": "code",
   "execution_count": null,
   "metadata": {},
   "outputs": [],
   "source": [
    "# Format\n",
    "# Find plants missing values (returns as type str which causes issues). \n",
    "\n",
    "ownerNotFound = ownerData.loc[ownerData['Percent Owned'].apply(lambda x: True if (x == ' ') else False)].index\n",
    "ownerData.loc[ownerData['Percent Owned'].apply(lambda x: True if (x == ' ') else False), 'Percent Owned'] = 0\n",
    "ownerData['Percent Owned'] = ownerData['Percent Owned'].astype(float)\n",
    "ownerData['Percent Owned'] = ownerData['Percent Owned'] * 100\n",
    "ownerData['Percent Owned'] = ownerData['Percent Owned'].astype(int) # remove decimal points\n",
    "ownerData['Percent Owned'] = ownerData['Percent Owned'].astype(str)\n",
    "\n",
    "# Make into GGPT format\n",
    "ownerData['Owner Name'] = ownerData['Owner Name'].astype(str)\n",
    "ownerData['oID'] = ownerData['Owner Name'] + ' [' + ownerData['Percent Owned'] + '%]'\n",
    "\n",
    "# Turn 0 from the blanks into 'not found'\n",
    "ownerData.loc[ownerData.index.isin(ownerNotFound), 'oID'] = '[% not found]'\n",
    "\n",
    "# Group by Generator ID\n",
    "ownerDataGrouped = ownerData.groupby(['Plant Code', 'Generator ID'])['oID'].apply('; '.join).reset_index()\n",
    "\n",
    "# Global ID\n",
    "ownerDataGrouped['Plant Code'] = ownerDataGrouped['Plant Code'].astype(str)\n",
    "ownerDataGrouped['Generator ID'] = ownerDataGrouped['Generator ID'].astype(str)\n",
    "ownerDataGrouped['gid'] = ownerDataGrouped['Plant Code'] + '_' + ownerDataGrouped['Generator ID'] \n",
    "\n",
    "eia['Plant ID'] = eia['Plant ID'].astype(str)\n",
    "eia['Generator ID'] = eia['Generator ID'].astype(str)\n",
    "eia['gid'] = eia['Plant ID'] + '_' + eia['Generator ID'] \n",
    "\n",
    "print(len(eia.index))\n",
    "print(len(eia[['gid']].drop_duplicates().index))\n",
    "\n",
    "# [can't, eia data only puts first entitiy code, not a list to match] Merge on Utility ID <--> Entity ID\n",
    "eiaMultiOwner = eia.merge(right=ownerDataGrouped[['gid', 'oID']], how='left', on='gid')\n",
    "print(eiaMultiOwner.columns.values)\n",
    "# Drop columns\n",
    "eia = eia.drop(columns=['gid'])"
   ]
  },
  {
   "cell_type": "code",
   "execution_count": null,
   "metadata": {},
   "outputs": [],
   "source": [
    "# print(tmp.loc[tmp['oID'].isna(), ['Plant ID', 'Generator ID', 'gid']])\n",
    "# print(ownerDataGrouped.loc[(ownerDataGrouped['Plant Code'] == '3')])\n",
    "# print(ownerDataGrouped.loc[(ownerDataGrouped['Plant Code'] == '3') & (ownerDataGrouped['Generator ID'] =='1')])\n",
    "print(len(tmp.loc[tmp['oID'].isna()]))\n",
    "print(len(tmp.loc[~tmp['oID'].isna()]))\n",
    "\n",
    "print(len(tmp.loc[tmp['oID'].isna()]) +\n",
    "len(tmp.loc[~tmp['oID'].isna()]))"
   ]
  },
  {
   "cell_type": "code",
   "execution_count": null,
   "metadata": {},
   "outputs": [],
   "source": [
    "# If not matched in Ownership table, the entity from EIA 860M is the owner\n",
    "sameOwner = eiaMultiOwner.loc[eiaMultiOwner['oID'].isna()]\n",
    "sameOwner = sameOwner.drop(columns=['oID'])\n",
    "sameOwner['oID']  = sameOwner['Entity Name'] + ' [100%]'\n",
    "\n",
    "dSO = eiaMultiOwner.loc[eiaMultiOwner['gid'].isin(sameOwner['gid'].tolist())].index.tolist()\n",
    "newEIA = eiaMultiOwner.drop(index=dSO)\n",
    "newEIA = newEIA.append(other=sameOwner, ignore_index=True)\n",
    "newEIA = newEIA.drop(columns=['gid', 'Entity ID', 'Entity Name'])\n",
    "\n",
    "print(len(newEIA.index))\n",
    "print(newEIA.columns.values)\n",
    "print(len(newEIA.loc[newEIA['oID'].isna()].index))"
   ]
  },
  {
   "cell_type": "code",
   "execution_count": null,
   "metadata": {},
   "outputs": [],
   "source": [
    "# TODO: deal with new fields (CHP, ownership) in CC code"
   ]
  },
  {
   "cell_type": "markdown",
   "metadata": {},
   "source": [
    "## Merge individual combined cycle units into single sets ##"
   ]
  },
  {
   "cell_type": "markdown",
   "metadata": {},
   "source": [
    "### Groupby \"Unit Code\", the identifier for common components of a combined cycle set"
   ]
  },
  {
   "cell_type": "code",
   "execution_count": null,
   "metadata": {},
   "outputs": [],
   "source": [
    "# Merge units into proper sets\n",
    "# 'ST', 'GT', and 'CS' are individual. 'CA' (steam) and 'CT' (gas turbine) need to be combined to 'CC'\n",
    "ccSets = eia.loc[eia['Prime Mover Code'].isin(['CA', 'CT'])]\n",
    "\n",
    "#Deal with these units separately\n",
    "ccSets = ccSets.drop(index=ccSets.loc[ccSets['Plant ID'].isin(CT)].index)\n",
    "ccToRemove = ccSets.index\n",
    "\n",
    "runningRowCount = 0 - len(ccToRemove)\n",
    "print('Running row count: ', runningRowCount)\n",
    "\n",
    "# Group by plant ID and Unit Code fields\n",
    "# Sum capacities, group Generator IDs, keep sets of values that could possibly vary between units\n",
    "ccGroup = ccSets.groupby(['Plant ID', 'Unit Code', 'Status_Tab'], as_index=False).agg({'Nameplate Capacity (MW)': 'sum', 'Generator ID': lambda x: list(x), 'Status': lambda x: set(x),\n",
    "'Operating Year': lambda x: set(x), 'Planned Retirement Year': lambda x: set(x), 'Planned Operation Year': lambda x: set(x)})\n",
    "\n",
    "# Set the correct tech code\n",
    "ccGroup['Prime Mover Code'] = 'CC'\n",
    "\n",
    "# IF not unit code, mason called it 'cc_set'\n",
    "ccGroup.loc[ccGroup['Unit Code'] == '', 'Unit Code'] = 'CC_set'"
   ]
  },
  {
   "cell_type": "markdown",
   "metadata": {},
   "source": [
    "### Deal with conflicting values from merged rows, such as start year"
   ]
  },
  {
   "cell_type": "code",
   "execution_count": null,
   "metadata": {},
   "outputs": [],
   "source": [
    "# Check Sets for multiple values and turn into a range if necessary (e.g. different start years for units of a CC generator)\n",
    "checkSets = ['Status', 'Operating Year', 'Planned Retirement Year', 'Planned Operation Year']\n",
    "for i in checkSets:\n",
    "    # Wherever there are multiple values print them to screen\n",
    "    print('\\n', i)\n",
    "    print(\"Cells with multiple values: \", len(ccGroup.loc[ccGroup[i].apply(len) != 1].index))\n",
    "    # Possible issues combing NaN and year\n",
    "    if len(ccGroup.loc[(ccGroup[i].apply(lambda x: 'not found' in list(x))) & (ccGroup[i].apply(len) > 1)].index) > 0:\n",
    "        print('ERROR Values and not founds: ', len(ccGroup.loc[(ccGroup[i].apply(lambda x: 'not found' in list(x))) & (ccGroup[i].apply(len) > 1)].index))\n",
    "    # For mutliple years per new CC value, create year range\n",
    "    check = []\n",
    "    check = ccGroup.loc[ccGroup[i].apply(len) != 1]\n",
    "    if len(check) > 0 and 'Year' in i:\n",
    "        ccGroup.loc[ccGroup[i].apply(len) != 1, i] = ccGroup.loc[ccGroup[i].apply(len) != 1][i].apply(lambda x: str(int(min(list(x)))) + '-' +  str(int(max(list(x)))) )\n",
    "    else:\n",
    "        print(\"Manually fix: \", i)\n",
    "        print(ccGroup.loc[ccGroup[i].apply(len) != 1])\n",
    "\n",
    "    # Wherever there's just one value, replace the set with the value\n",
    "    ccGroup.loc[ccGroup[i].apply(len) == 1, i] = ccGroup.loc[ccGroup[i].apply(len) == 1][i].apply(lambda x: list(x)[0])"
   ]
  },
  {
   "cell_type": "code",
   "execution_count": null,
   "metadata": {},
   "outputs": [],
   "source": [
    "# Join back relevant plant-level columns\n",
    "eiaBackfill = eia.drop_duplicates(subset='Plant ID', ignore_index=True)\n",
    "eiaBackfill = eiaBackfill.drop(columns=['Unit Code', 'Nameplate Capacity (MW)', 'Generator ID', 'Status', 'Operating Year', 'Planned Retirement Year', 'Planned Operation Year',\n",
    " 'Prime Mover Code', 'Status_Tab'])\n",
    "ccGroupJoin = ccGroup.merge(eiaBackfill, on='Plant ID', how='left')"
   ]
  },
  {
   "cell_type": "code",
   "execution_count": null,
   "metadata": {},
   "outputs": [],
   "source": [
    "# Remove units from eia dataset, add back-in the new sets\n",
    "eiaFormatted = eia.drop(index=ccToRemove)\n",
    "\n",
    "# Check to make sure columns match first\n",
    "if sorted(list(eiaFormatted.columns)) != sorted(list(ccGroupJoin.columns)):\n",
    "    print(\"Error, missing columns\")\n",
    "    exit()\n",
    "\n",
    "# Append CC rows\n",
    "eiaFormatted = eiaFormatted.append(ccGroupJoin, ignore_index=True)\n",
    "\n",
    "# QC\n",
    "runningRowCount = runningRowCount + len(ccGroupJoin.index)\n",
    "print('Running row count: ', runningRowCount)"
   ]
  },
  {
   "cell_type": "markdown",
   "metadata": {},
   "source": [
    "### Combined cycle fixes"
   ]
  },
  {
   "cell_type": "code",
   "execution_count": null,
   "metadata": {},
   "outputs": [],
   "source": [
    "# Manual fixes\n",
    "# For single units in standby within CC unit\n",
    "# convert tech to just GT or ST and make mothballed\n",
    "\n",
    "# Unit ids\n",
    "CT_U = list(eiaFormatted.loc[(eiaFormatted['Plant ID'].isin(CT)) & eiaFormatted['Prime Mover Code'].isin(['CT','CA'])].index)\n",
    "\n",
    "# Deal with mothballed generators\n",
    "sepCode = ['\\(SB\\)', '\\(OS\\)', '\\(OA\\)']\n",
    "ccSetsSkip = eiaFormatted.loc[(eiaFormatted['Status'].str.contains('|'.join(sepCode))) & (eiaFormatted['Plant ID'].isin(CT)) & eiaFormatted['Prime Mover Code'].isin(['CT','CA'])]\n",
    "CT_2 = [x for x in CT_U if x not in list(ccSetsSkip.index)]\n",
    "\n",
    "for x in list(ccSetsSkip.index):\n",
    "    eiaFormatted.loc[x, 'Status'] = 'mothballed'\n",
    "    if eiaFormatted.loc[x, 'Prime Mover Code'] == 'CT':\n",
    "        eiaFormatted.loc[x, 'Prime Mover Code'] = 'GT'\n",
    "    else:\n",
    "        eiaFormatted.loc[x, 'Prime Mover Code'] = 'ST'"
   ]
  },
  {
   "cell_type": "code",
   "execution_count": null,
   "metadata": {},
   "outputs": [],
   "source": [
    "# Now see if there's still a CC unit with one status to combine\n",
    "# Merge units into proper sets\n",
    "# 'ST', 'GT', and 'CS' are individual. 'CA' (steam) and 'CT' (gas turbine) need to be combined to 'CC'\n",
    "ccSetsM = eiaFormatted.loc[eiaFormatted.index.isin(CT_2)]\n",
    "ccToRemoveM = ccSetsM.index\n",
    "\n",
    "# QC\n",
    "runningRowCount = runningRowCount - len(ccToRemoveM)\n",
    "print('Running row count: ', runningRowCount)\n",
    "\n",
    "# Group by plant ID and Unit Code fields\n",
    "# Sum capacities, group Generator IDs, keep sets of values that could possibly vary between units\n",
    "ccGroupM = ccSetsM.groupby(['Plant ID', 'Unit Code', 'Status_Tab'], as_index=False).agg({'Prime Mover Code': lambda x: set(x), 'Nameplate Capacity (MW)': 'sum', 'Generator ID': lambda x: list(x), 'Status': lambda x: set(x),\n",
    "'Operating Year': lambda x: set(x), 'Planned Retirement Year': lambda x: set(x), 'Planned Operation Year': lambda x: set(x)})\n",
    "\n",
    "## QC ##\n",
    "# Check for multiple statuses\n",
    "if len(ccGroupM.loc[ccGroupM['Status'].apply(len) != 1].index) > 0:\n",
    "    print(\"Cells with multiple Status values: \", ccGroupM.loc[ccGroupM['Status'].apply(len) != 1])\n",
    "\n",
    "## Sort out what is still CC and what's individual turbines now ##\n",
    "# Check is a CC unit still\n",
    "ccGroupM.loc[ccGroupM['Prime Mover Code'].apply(len) > 1, 'Prime Mover Code'] = 'CC'\n",
    "\n",
    "# If not, remove from the groupby and re-insert as individual units\n",
    "cgmi = ccGroupM.loc[ccGroupM['Prime Mover Code'].apply(len) == 1].index\n",
    "ccGroupM.drop(index=cgmi, inplace=True)\n",
    "\n",
    "# Create single list of generator ids to drop\n",
    "gm = ccGroupM['Generator ID'].apply(lambda x: x if (type(x) == list) else [x])\n",
    "gmDrop = np.concatenate(gm.tolist())\n",
    "# drop\n",
    "ccSetsM2 = ccSetsM.drop(index=ccSetsM.loc[ccSetsM['Generator ID'].isin(gmDrop)].index)\n",
    "# Rename codes\n",
    "ccSetsM2.loc[ccSetsM2['Prime Mover Code'] == 'CT', 'Prime Mover Code'] = 'GT'\n",
    "ccSetsM2.loc[ccSetsM2['Prime Mover Code'] == 'CA', 'Prime Mover Code'] = 'ST'\n",
    "\n",
    "\n",
    "# Check Sets for multiple values and turn into a range if necessary (e.g. different start years for units of a CC generator)\n",
    "for i in checkSets: # <-- previously defined\n",
    "    print('\\n', i)\n",
    "    # Possible issues combing NaN and year\n",
    "    if len(ccGroupM.loc[(ccGroupM[i].apply(lambda x: 'not found' in list(x))) & (ccGroupM[i].apply(len) > 1)].index) > 0:\n",
    "        print('ERROR Values and not founds: ', len(ccGroupM.loc[(ccGroupM[i].apply(lambda x: 'not found' in list(x))) & (ccGroupM[i].apply(len) > 1)].index))\n",
    "   \n",
    "    # For mutliple years per new CC value, create year range\n",
    "    ccGroupM.loc[ccGroupM[i].apply(len) != 1, i] = ccGroupM.loc[ccGroupM[i].apply(len) != 1][i].apply(lambda x: str(int(min(list(x)))) + '-' +  str(int(max(list(x)))) )\n",
    "   \n",
    "    # Wherever there's just one value, replace the set with the value\n",
    "    ccGroupM.loc[ccGroupM[i].apply(len) == 1, i] = ccGroupM.loc[ccGroupM[i].apply(len) == 1][i].apply(lambda x: list(x)[0])\n",
    "\n",
    "## Merge all CC-type units after editing ##\n",
    "# Join back relevant plant-level columns before append\n",
    "ccGroupM = ccGroupM.merge(eiaBackfill, on='Plant ID', how='left')\n",
    "# Check to make sure columns match first\n",
    "if sorted(list(ccGroupM.columns)) != sorted(list(ccSetsM2.columns)):\n",
    "    print(\"Error, missing columns\")\n",
    "    exit()\n",
    "ccGroupM = ccGroupM.append(ccSetsM2, ignore_index=True)"
   ]
  },
  {
   "cell_type": "code",
   "execution_count": null,
   "metadata": {},
   "outputs": [],
   "source": [
    "# Remove units from eia dataset, add back-in the new sets\n",
    "eiaFormatted.drop(index=ccToRemoveM, inplace=True)\n",
    "\n",
    "# Check to make sure columns match first\n",
    "if sorted(list(eiaFormatted.columns)) != sorted(list(ccGroupM.columns)):\n",
    "    print(\"Error, missing columns\")\n",
    "    exit()\n",
    "\n",
    "# Append CC rows\n",
    "eiaFormatted = eiaFormatted.append(ccGroupM, ignore_index=True)\n",
    "\n",
    "#QC\n",
    "runningRowCount = runningRowCount + len(ccGroupM.index)\n",
    "print('Running row count: ', runningRowCount)"
   ]
  },
  {
   "cell_type": "markdown",
   "metadata": {},
   "source": [
    "## Formatting"
   ]
  },
  {
   "cell_type": "markdown",
   "metadata": {},
   "source": [
    "### Capacity cut-off"
   ]
  },
  {
   "cell_type": "code",
   "execution_count": null,
   "metadata": {},
   "outputs": [],
   "source": [
    "# remove units with capacity issues if not operating/planned\n",
    "tmp = pd.to_numeric(eiaFormatted['Nameplate Capacity (MW)'], errors='coerce')\n",
    "print(\"Units missing capacity data or other errors: \", '\\n', eiaFormatted.loc[tmp.isna(), ['Plant Name','Status_Tab']])\n",
    "\n",
    "#QC\n",
    "runningRowCount = runningRowCount - len(eiaFormatted.loc[tmp.isna()].index)\n",
    "print('Running row count: ', runningRowCount)\n",
    "\n",
    "eiaFormatted.drop(index=eiaFormatted.loc[tmp.isna()].index, inplace=True)\n",
    "\n",
    "# remove units <50 MW\n",
    "eiaFormatted['Nameplate Capacity (MW)'] = eiaFormatted['Nameplate Capacity (MW)'].apply(lambda x: decimal.Decimal(x).quantize(decimal.Decimal('1'), \n",
    "    rounding=decimal.ROUND_HALF_UP)) # Python 3 went to Round Half Even, overriding\n",
    "\n",
    "#QC\n",
    "runningRowCount = runningRowCount - len(eiaFormatted.loc[eiaFormatted['Nameplate Capacity (MW)'] < 50].index)\n",
    "print('Running row count: ', runningRowCount)\n",
    "\n",
    "eiaFormatted.drop(index=eiaFormatted.loc[eiaFormatted['Nameplate Capacity (MW)'] < 50].index, inplace=True)"
   ]
  },
  {
   "cell_type": "markdown",
   "metadata": {},
   "source": [
    "### Technology codes"
   ]
  },
  {
   "cell_type": "code",
   "execution_count": null,
   "metadata": {},
   "outputs": [],
   "source": [
    "# Change 'CS' to 'CC', etc\n",
    "eiaFormatted.loc[eiaFormatted['Prime Mover Code'] == 'CS', 'Prime Mover Code'] = 'CC'\n",
    "\n",
    "# Remove IC and other tech\n",
    "print(\"Current tech codes: \", set(eiaFormatted['Prime Mover Code']))\n",
    "#QC\n",
    "runningRowCount = runningRowCount - len(eiaFormatted.loc[~eiaFormatted['Prime Mover Code'].isin(allowedTechCodes)].index)\n",
    "print('Running row count: ', runningRowCount)\n",
    "\n",
    "eiaFormatted.drop(eiaFormatted.loc[~eiaFormatted['Prime Mover Code'].isin(allowedTechCodes)].index, inplace=True)"
   ]
  },
  {
   "cell_type": "markdown",
   "metadata": {},
   "source": [
    "### Join in 860 data, city"
   ]
  },
  {
   "cell_type": "code",
   "execution_count": null,
   "metadata": {},
   "outputs": [],
   "source": [
    "# Use City column from plant data spreadsheet\n",
    "pDrop = [x for x in plantData.columns.values if x not in ['Plant Code', 'City']]\n",
    "plantData.drop(columns=pDrop, inplace=True)\n",
    "eiaFormatted = eiaFormatted.merge(plantData, how='left', left_on='Plant ID', right_on='Plant Code')\n",
    "eiaFormatted.drop(columns=['Plant Code'], inplace=True)"
   ]
  },
  {
   "cell_type": "markdown",
   "metadata": {},
   "source": [
    "### Generator ID lists to string"
   ]
  },
  {
   "cell_type": "code",
   "execution_count": null,
   "metadata": {},
   "outputs": [],
   "source": [
    "# Backfill single units with a unit name\n",
    "eiaFormatted.loc[eiaFormatted['Unit Code'] == '', 'Unit Code'] = eiaFormatted.loc[eiaFormatted['Unit Code'] == '', 'Generator ID']\n",
    "\n",
    "# Make string for CC units and Other IDs\n",
    "eiaFormatted['Generator ID'] = eiaFormatted['Generator ID'].apply(lambda x: ', '.join(sorted(x)) if (type(x) == list) else x)"
   ]
  },
  {
   "cell_type": "markdown",
   "metadata": {},
   "source": [
    "### EIA Status"
   ]
  },
  {
   "cell_type": "code",
   "execution_count": null,
   "metadata": {},
   "outputs": [],
   "source": [
    "# Standardize status values\n",
    "# statuses = list(eiaFormatted['Status'])\n",
    "# s = []\n",
    "# s += [x for x in statuses if type(x) != set]\n",
    "# print(set(s))\n",
    "st = {\n",
    "    '(U) Under construction, less than or equal to 50 percent complete': 'construction',\n",
    "    '(OP) Operating': 'operating', \n",
    "    '(OS) Out of service and NOT expected to return to service in next calendar year': 'mothballed', \n",
    "    '(OA) Out of service but expected to return to service in next calendar year': 'mothballed', \n",
    "    '(P) Planned for installation, but regulatory approvals not initiated': 'proposed', \n",
    "    '(TS) Construction complete, but not yet in commercial operation': 'construction', \n",
    "    '(T) Regulatory approvals received. Not under construction': 'proposed', \n",
    "    '(V) Under construction, more than 50 percent complete': 'construction', \n",
    "    '(SB) Standby/Backup: available for service but not normally used': 'mothballed', \n",
    "    '(L) Regulatory approvals pending. Not under construction': 'proposed'\n",
    "}\n",
    "\n",
    "for key in st:\n",
    "    eiaFormatted.loc[eiaFormatted['Status'] == key, 'Status'] = st[key]\n",
    "\n",
    "# Reset these statuses to construction\n",
    "eiaFormatted.loc[(eiaFormatted['Plant ID'].isin(setFixPlant)) & eiaFormatted['Unit Code'].isin(setFixUnit), 'Status'] = 'construction'\n",
    "\n",
    "# Pre-process\n",
    "eiaFormatted['Status_Tab'] = eiaFormatted['Status_Tab'].apply(lambda x: x.replace('_pr', ''))\n",
    "\n",
    "# Move \"planned\" tab's start year column\n",
    "eiaFormatted.loc[eiaFormatted['Status_Tab'].isin(['planned']), 'Operating Year'] = eiaFormatted.loc[eiaFormatted['Status_Tab'].isin(['planned']), 'Planned Operation Year']\n",
    "eiaFormatted.drop(columns=['Planned Operation Year'], inplace=True)\n",
    "\n",
    "# Deal with tabs without status column\n",
    "eiaFormatted.loc[(eiaFormatted['Status'] ==  'not found'), 'Status'] = eiaFormatted.loc[(eiaFormatted['Status'] ==  'not found'), 'Status_Tab']\n",
    "eiaFormatted.loc[(eiaFormatted['Status'] ==  'canceled or postponed'), 'Status'] = 'cancelled'\n",
    "eiaFormatted.drop(columns=['Status_Tab'], inplace=True)"
   ]
  },
  {
   "cell_type": "markdown",
   "metadata": {},
   "source": [
    "### Other ID field values for GGPT"
   ]
  },
  {
   "cell_type": "code",
   "execution_count": null,
   "metadata": {},
   "outputs": [],
   "source": [
    "# Create 'Other ID' fields to match GGPT\n",
    "eiaFormatted['Other IDs (location)'] = eiaFormatted['Plant ID'].apply(lambda x: '{EIA: ' + str(x) + '}')\n",
    "eiaFormatted['Other IDs (unit)'] = eiaFormatted['Generator ID'].apply(lambda x: '{EIA: ' + str(x) + '}')"
   ]
  },
  {
   "cell_type": "markdown",
   "metadata": {},
   "source": [
    "### Columns where prefer blank to 'not found' for comparison later"
   ]
  },
  {
   "cell_type": "code",
   "execution_count": null,
   "metadata": {},
   "outputs": [],
   "source": [
    "# eiaFormatted.loc[eiaFormatted['Retirement Year'] == 'not found','Retirement Year'] = ''\n",
    "eiaFormatted.loc[eiaFormatted['Planned Retirement Year'] == 'not found','Planned Retirement Year'] = ''"
   ]
  },
  {
   "cell_type": "markdown",
   "metadata": {},
   "source": [
    "### Find any sets left over, or won't sort values later"
   ]
  },
  {
   "cell_type": "code",
   "execution_count": null,
   "metadata": {},
   "outputs": [],
   "source": [
    "# for i in eiaFormatted.columns:\n",
    "#     print(eiaFormatted.loc[eiaFormatted[i].apply(lambda x: True if (type(x)==set) else False)])\n",
    "\n",
    "# eiaFormatted.loc[eiaFormatted['Plant ID']==10554]"
   ]
  },
  {
   "cell_type": "markdown",
   "metadata": {},
   "source": [
    "## Final QC"
   ]
  },
  {
   "cell_type": "code",
   "execution_count": null,
   "metadata": {},
   "outputs": [],
   "source": [
    "print(\"Starting row count: \", len(eia.index))\n",
    "\n",
    "print(\"Ending row count: \", len(eiaFormatted.index))\n",
    "\n",
    "print(\"Total removed rows: \", runningRowCount)\n",
    "\n",
    "print(\"Adding removed and end count: \", len(eiaFormatted.index) + (-1*runningRowCount))"
   ]
  },
  {
   "cell_type": "code",
   "execution_count": null,
   "metadata": {},
   "outputs": [],
   "source": [
    "eiaFormatted.to_excel(r'C:\\Users\\Sarah\\Documents\\GEM\\code\\GGPT-US-EIA\\scratch\\eiaFormatted_' + stamp + '.xlsx', index=False)"
   ]
  },
  {
   "cell_type": "code",
   "execution_count": null,
   "metadata": {},
   "outputs": [],
   "source": [
    "# TODO: pygsheets\n",
    "ggpt = pd.read_excel(r'C:\\Users\\Sarah\\Documents\\GEM\\code\\GGPT-Compile\\2021_10_06_compiled\\Global Gas Plant Tracker (GGPT) completed 2021-10-06.xlsx', sheet_name='GGPT - Gas Units',\n",
    " keep_default_na=False)\n",
    "ggpt = ggpt.loc[ggpt['Country'] == 'United States']"
   ]
  },
  {
   "cell_type": "code",
   "execution_count": null,
   "metadata": {},
   "outputs": [],
   "source": [
    "eiaQC = eiaFormatted.copy(deep=True)\n",
    "eiaQC['labelCheck'] = eiaQC['Plant ID'].apply(str) + \" \" + eiaQC['Generator ID'] # if same as GGPT field drops in compare function, hard to find plants\n",
    "if len(eiaQC.loc[eiaQC.duplicated(subset='labelCheck')].index) > 0:\n",
    "    print('EIA ID ERROR')\n",
    "    eiaQC.loc[eiaQC.duplicated(subset='labelCheck')]\n",
    "\n",
    "# GGPT\n",
    "# {'EIA': '56249'}\t{'EIA': '5'}\n",
    "gl1 = ggpt['Other IDs (location)'].str.replace(r\"{'EIA': '\", '', regex=True).str.replace(r\"'}\", '', regex=True)\n",
    "\n",
    "gl2 = ggpt['Other IDs (unit)'].str.replace(r\"{'EIA': '\", '', regex=True).str.replace(r\"'}\", '', regex=True)\n",
    "gl2a = gl2.apply(lambda x: x.split(', ') if (', ' in x) else x)\n",
    "gl2b = gl2a.apply(lambda x: sorted(x) if (type(x) == list) else x)\n",
    "gl2c = gl2b.apply(lambda x: (', ').join(x) if (type(x) == list) else x)\n",
    "\n",
    "ggpt['labelCheck'] = gl1 + \" \" + gl2c\n",
    "if len(ggpt.loc[ggpt.duplicated(subset='labelCheck')].index) > 0:\n",
    "    print('GGPT ID ERROR')\n",
    "    ggpt.loc[ggpt.duplicated(subset='labelCheck')]"
   ]
  },
  {
   "cell_type": "markdown",
   "metadata": {},
   "source": [
    "### Column names to match GGPT"
   ]
  },
  {
   "cell_type": "code",
   "execution_count": null,
   "metadata": {},
   "outputs": [],
   "source": [
    "# drop columns to compare to EIA\n",
    "# Plant name has slight variations and states are in differentf ormat, so have to drop for now as well\n",
    "refCols = [x for x in list(ggpt.columns) if '[ref]' in x]\n",
    "ggpt.drop(columns=refCols, inplace=True)\n",
    "ggpt.drop(columns=['Fuel', 'Location accuracy', 'Major area (prefecture, district)',\n",
    "'Sponsor', 'Parent', 'Sponsor LEI', 'Parent LEI', 'Parent HQ country',\n",
    "'CHP', 'Last Updated', 'Country', 'GEM location ID', 'GEM unit ID', 'WEPP location ID', 'WEPP unit ID',\n",
    "'Plant name (local script)', 'Other plant names', 'Wiki URL', 'Other IDs (location)','Other IDs (unit)','Region', 'City',\n",
    "'Plant name', 'Subnational unit (province, state)'], inplace=True)\n",
    "ggpt.reset_index(inplace=True, drop=True)"
   ]
  },
  {
   "cell_type": "code",
   "execution_count": null,
   "metadata": {},
   "outputs": [],
   "source": [
    "\n",
    "eiaQC.drop(columns=['Plant ID', 'Generator ID', 'Energy Source Code', 'Other IDs (location)','Other IDs (unit)', \n",
    "'Plant State', 'Plant Name'], inplace=True)\n",
    "\n",
    "eiaQC.reset_index(inplace=True, drop=True)\n",
    "\n",
    "repCols = { \n",
    "  'Unit Code': 'Unit name',\n",
    "   'Nameplate Capacity (MW)': 'Capacity elec. (MW)',\n",
    "   'Prime Mover Code': 'Technology', \n",
    "   'Operating Year': 'Start year', \n",
    "   'Planned Retirement Year': 'Planned retire',\n",
    "      'County': 'Local area (taluk, county)'\n",
    "}\n",
    "eiaQC.rename(columns=repCols, inplace=True)\n",
    "\n",
    "eiaQC['Retired year'] = ''\n"
   ]
  },
  {
   "cell_type": "code",
   "execution_count": null,
   "metadata": {},
   "outputs": [],
   "source": [
    "eiaQC = eiaQC.reindex(columns=sorted(eiaQC.columns))\n",
    "ggpt = ggpt.reindex(columns=sorted(ggpt.columns))"
   ]
  },
  {
   "cell_type": "code",
   "execution_count": null,
   "metadata": {},
   "outputs": [],
   "source": [
    "eiaQC.sort_values(by='labelCheck', ignore_index=True,  inplace=True)\n",
    "ggpt.sort_values(by='labelCheck', ignore_index=True, inplace=True)"
   ]
  },
  {
   "cell_type": "code",
   "execution_count": null,
   "metadata": {},
   "outputs": [],
   "source": [
    "# eiaQC.merge(ggpt, on=list(eiaQC['labelCheck']), how='outer', indicator=True)\n",
    "missingInGGPT=[x for x in list(eiaQC['labelCheck']) if x not in list(ggpt['labelCheck'])]\n",
    "print(len(missingInGGPT))\n",
    "print(len(list(eiaQC['labelCheck'])))\n",
    "\n",
    "eiaQC.loc[eiaQC['labelCheck'].isin(missingInGGPT)].to_excel(r'C:\\Users\\Sarah\\Documents\\GEM\\code\\GGPT-US-EIA\\scratch\\eiaMissingFromGGPT_' + stamp + '.xlsx', index=False)\n",
    "\n",
    "missingInEIA=[x for x in list(ggpt['labelCheck']) if x in list(eiaQC['labelCheck'])]\n",
    "ggpt.loc[ggpt['labelCheck'].isin(missingInEIA)].to_excel(r'C:\\Users\\Sarah\\Documents\\GEM\\code\\GGPT-US-EIA\\scratch\\ggptMissingFromEIA_' + stamp + '.xlsx', index=False)\n"
   ]
  },
  {
   "cell_type": "code",
   "execution_count": null,
   "metadata": {},
   "outputs": [],
   "source": [
    "# FOr shared IDs, compare\n",
    "eiaQC2 = eiaQC.copy(deep=True)\n",
    "\n",
    "inGGPT = [x for x in list(eiaQC2['labelCheck']) if x in list(ggpt['labelCheck'])]\n",
    "eiaQC2 = eiaQC2.loc[eiaQC2['labelCheck'].isin(inGGPT)]\n",
    "eiaQC2.set_index(keys='labelCheck', inplace=True, drop=False)\n",
    "\n",
    "ggpt2 = ggpt.copy(deep=True)\n",
    "inQC2=[x for x in list(ggpt2['labelCheck']) if x in list(eiaQC2['labelCheck'])]\n",
    "ggpt2 = ggpt2.loc[ggpt2['labelCheck'].isin(inQC2)]\n",
    "ggpt2.set_index(keys='labelCheck', inplace=True, drop=False)\n",
    "\n",
    "print(len(eiaQC2.index))\n",
    "print(len(ggpt2.index))"
   ]
  },
  {
   "cell_type": "code",
   "execution_count": null,
   "metadata": {},
   "outputs": [],
   "source": [
    "print(eiaQC2.loc['10 1'])\n",
    "\n",
    "print(ggpt2.loc['10 1'])"
   ]
  },
  {
   "cell_type": "code",
   "execution_count": null,
   "metadata": {},
   "outputs": [],
   "source": [
    "# Corece all Year values into strings or else dtype is compared and returns False on int/str matches\n",
    "eiaQC2 = eiaQC2.astype({'Start year':'str', 'Retired year': 'str', 'Planned retire': 'str'})\n",
    "ggpt2 = ggpt2.astype({'Start year':'str', 'Retired year': 'str', 'Planned retire': 'str'})"
   ]
  },
  {
   "cell_type": "code",
   "execution_count": null,
   "metadata": {},
   "outputs": [],
   "source": [
    "comparison = eiaQC2.compare(other=ggpt2, keep_shape=False)\n",
    "multiCol=list(comparison.columns)\n",
    "t2 = [x[0]+x[1].replace('self', 'eia') for x in multiCol]\n",
    "\n",
    "c2 = comparison.droplevel(level=[0], axis=1)\n",
    "\n",
    "c2.columns=t2\n",
    "\n",
    "c2.sort_values(by=t2, axis=0, inplace=True)\n",
    "\n",
    "c2.to_excel(r'C:\\Users\\Sarah\\Documents\\GEM\\code\\GGPT-US-EIA\\scratch\\eiaComparedShared_' + stamp + '.xlsx')"
   ]
  },
  {
   "cell_type": "code",
   "execution_count": null,
   "metadata": {},
   "outputs": [],
   "source": [
    "# Locate any new unit IDs\n",
    "\n",
    "# Check capacity for any new units\n",
    "\n"
   ]
  },
  {
   "cell_type": "markdown",
   "metadata": {},
   "source": [
    "## EIA Data Join"
   ]
  },
  {
   "cell_type": "markdown",
   "metadata": {},
   "source": [
    "### Add in ownership information from separate EIA table"
   ]
  },
  {
   "cell_type": "markdown",
   "metadata": {},
   "source": [
    "### Join CHP"
   ]
  },
  {
   "cell_type": "code",
   "execution_count": null,
   "metadata": {},
   "outputs": [],
   "source": [
    "# Check for missing dual-fuel plants in EIA-860\n"
   ]
  }
 ],
 "metadata": {
  "interpreter": {
   "hash": "59914d4cdf2882751604edf3f1dd6385ce640077546f95a91cf3fdd2be269e3e"
  },
  "kernelspec": {
   "display_name": "Python 3.9.1 64-bit",
   "name": "python3"
  },
  "language_info": {
   "codemirror_mode": {
    "name": "ipython",
    "version": 3
   },
   "file_extension": ".py",
   "mimetype": "text/x-python",
   "name": "python",
   "nbconvert_exporter": "python",
   "pygments_lexer": "ipython3",
   "version": "3.9.1"
  },
  "orig_nbformat": 4
 },
 "nbformat": 4,
 "nbformat_minor": 2
}
