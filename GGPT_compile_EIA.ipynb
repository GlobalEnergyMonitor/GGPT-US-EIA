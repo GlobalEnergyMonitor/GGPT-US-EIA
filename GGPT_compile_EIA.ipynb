{
 "cells": [
  {
   "cell_type": "code",
   "execution_count": null,
   "source": [
    "import pandas as pd"
   ],
   "outputs": [],
   "metadata": {}
  },
  {
   "cell_type": "markdown",
   "source": [
    "-Format EIA Data-"
   ],
   "metadata": {}
  },
  {
   "cell_type": "code",
   "execution_count": null,
   "source": [
    "# The EIA data table is formatted with notes at the beginning and end, drop them from dataframe\r\n",
    "# see skiprows and skipfooter\r\n",
    "eiaDropHead = [0, 1]\r\n",
    "\r\n",
    "# Columns we don't need for GGPT (will drop later, putting here for visibility)\r\n",
    "eiaDropCols = ['Sector', 'Net Summer Capacity (MW)', 'Net Winter Capacity (MW)', 'Technology', 'Operating Month', 'Planned Retirement Month', 'Retirement Month', 'Planned Operation Month',\r\n",
    "'Google Map', 'Bing Map', 'Balancing Authority Code', 'Planned Derate Year', 'Planned Derate Month', 'Planned Derate of Summer Capacity (MW)', 'Planned Uprate Year', 'Planned Uprate Month', \r\n",
    "'Planned Uprate of Summer Capacity (MW)']\r\n",
    "\r\n",
    "# EIA list of tabs to merge\r\n",
    "eiaTabs = ['Operating', 'Planned', 'Retired', 'Canceled or Postponed', 'Operating_PR', 'Planned_PR', 'Retired_PR']\r\n",
    "\r\n",
    "eiaList = [] # for storing each tab to merge later, better performance and this is a large table)\r\n",
    "eiaLenQC = 0\r\n",
    "\r\n",
    "# Loop over each sheet to read in and merge\r\n",
    "for i in eiaTabs:\r\n",
    "    print(\"Processing tab: \", i)\r\n",
    "\r\n",
    "    eia_ = pd.read_excel(r'C:\\Users\\Sarah\\Documents\\GEM\\research\\North America\\US\\EIA\\july_generator2021.xlsx', sheet_name=i, skiprows=eiaDropHead, skipfooter=2)\r\n",
    "    eiaLenQC += len(eia_.index) # Can compare this number later to the sum of all rows in the EIA Excel sheet\r\n",
    "\r\n",
    "    # Keep only gas-fired plants\r\n",
    "    eia_ = eia_.loc[eia_['Energy Source Code'] == 'NG']\r\n",
    "   \r\n",
    "    # Add status column based on the tab's name, EIA Status column inconsistent\r\n",
    "    eia_['Status_Tab'] = i.lower()\r\n",
    "\r\n",
    "    # Store this tab's data to merge\r\n",
    "    eiaList += [eia_]\r\n",
    "\r\n",
    "# Combine tabs\r\n",
    "eia = pd.concat(eiaList)\r\n",
    "\r\n",
    "# Drop columns\r\n",
    "eia.drop(columns=eiaDropCols, inplace=True)\r\n",
    "\r\n",
    "# Total rows\r\n",
    "print('\\n')\r\n",
    "print(\"Total row count of all tabs: \", eiaLenQC, '\\n')\r\n",
    "print(\"Total row count, only NG-fired units: \", len(eia.index), '\\n')\r\n"
   ],
   "outputs": [],
   "metadata": {}
  },
  {
   "cell_type": "markdown",
   "source": [
    "Merge combined cycle units into single sets"
   ],
   "metadata": {}
  },
  {
   "cell_type": "code",
   "execution_count": null,
   "source": [
    "# Merge units into proper sets\r\n",
    "# 'ST', 'GT', and 'CS' are individual. 'CA' (steam) and 'CT' (gas turbine) need to be combined to 'CC'\r\n",
    "ccSets = eia.loc[eia['Prime Mover Code'].isin(['CA', 'CT'])]\r\n",
    "\r\n",
    "# Group by plant ID and Unit Code fields\r\n",
    "# Sum capacities, group Generator IDs\r\n",
    "ccGroup = ccSets.groupby(['Plant ID', 'Unit Code'], as_index=False).agg({'Nameplate Capacity (MW)': 'sum', 'Generator ID': lambda x: list(x), 'Status': lambda x: set(x),\r\n",
    "'Operating Year': lambda x: set(x), 'Planned Retirement Year': lambda x: set(x), 'Planned Operation Year': lambda x: set(x), 'Retirement Year': lambda x: set(x), 'Entity ID': lambda x: set(x),\r\n",
    "'Entity Name': lambda x: set(x)})\r\n",
    "\r\n",
    "# Set the correct tech code\r\n",
    "ccGroup['Prime Mover Code'] = 'CC'\r\n",
    "\r\n",
    "# Check Sets for multiple values and turn into a range if necessary (e.g. different start years for units of a CC generator)\r\n",
    "\r\n",
    "# Join back relevant plant-level columns\r\n",
    "eiaBackfill = eia.drop_duplicates(subset='Plant ID', ignore_index=True)\r\n",
    "eiaBackfill = eiaBackfill.drop(columns=['Unit Code', 'Nameplate Capacity (MW)', 'Generator ID', 'Status', 'Operating Year', 'Planned Retirement Year', 'Planned Operation Year',\r\n",
    "'Retirement Year', 'Entity ID', 'Entity Name', 'Prime Mover Code'])\r\n",
    "ccGroupJoin = ccGroup.merge(eiaBackfill, on='Plant ID', how='left')\r\n",
    "print(ccGroupJoin.columns)\r\n",
    "\r\n",
    "# Remove units from eia dataset, add back-in the new sets\r\n",
    "        \r\n",
    "\r\n",
    "# remove units <50 MW\r\n",
    "  \r\n",
    "# Change 'CS' to 'CC'\r\n",
    "eia.loc[eia['Prime Mover Code'] == 'CS'] = 'CC'\r\n",
    "\r\n"
   ],
   "outputs": [],
   "metadata": {}
  },
  {
   "cell_type": "markdown",
   "source": [
    "Compare new data to GGPT values"
   ],
   "metadata": {}
  },
  {
   "cell_type": "code",
   "execution_count": null,
   "source": [
    "# Match IDs to GGPT and compare field values (status, capacity, year)\r\n",
    "\r\n",
    "# Locate any new unit IDs\r\n",
    "\r\n",
    "# Check capacity for any new units"
   ],
   "outputs": [],
   "metadata": {}
  },
  {
   "cell_type": "code",
   "execution_count": null,
   "source": [
    "# Check for missing dual-fuel plants in EIA-860\r\n"
   ],
   "outputs": [],
   "metadata": {}
  },
  {
   "cell_type": "code",
   "execution_count": null,
   "source": [
    "# Add in ownership information from separate EIA table"
   ],
   "outputs": [],
   "metadata": {}
  }
 ],
 "metadata": {
  "orig_nbformat": 4,
  "language_info": {
   "name": "python",
   "version": "3.9.1",
   "mimetype": "text/x-python",
   "codemirror_mode": {
    "name": "ipython",
    "version": 3
   },
   "pygments_lexer": "ipython3",
   "nbconvert_exporter": "python",
   "file_extension": ".py"
  },
  "kernelspec": {
   "name": "python3",
   "display_name": "Python 3.9.1 64-bit"
  },
  "interpreter": {
   "hash": "59914d4cdf2882751604edf3f1dd6385ce640077546f95a91cf3fdd2be269e3e"
  }
 },
 "nbformat": 4,
 "nbformat_minor": 2
}